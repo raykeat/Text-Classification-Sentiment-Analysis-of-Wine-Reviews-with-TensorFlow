{
  "cells": [
    {
      "cell_type": "markdown",
      "metadata": {
        "id": "view-in-github",
        "colab_type": "text"
      },
      "source": [
        "<a href=\"https://colab.research.google.com/github/raykeat/Text-Classification-Sentiment-Analysis-of-Wine-Reviews-with-TensorFlow/blob/main/Tensorflow_text_classification_wine.ipynb\" target=\"_parent\"><img src=\"https://colab.research.google.com/assets/colab-badge.svg\" alt=\"Open In Colab\"/></a>"
      ]
    },
    {
      "cell_type": "code",
      "execution_count": 1,
      "metadata": {
        "id": "sv9eXD-PbZJT"
      },
      "outputs": [],
      "source": [
        "import numpy as np\n",
        "import pandas as pd\n",
        "import matplotlib.pyplot as plt\n",
        "import tensorflow as tf\n",
        "import tensorflow_hub as hub"
      ]
    },
    {
      "cell_type": "code",
      "execution_count": 2,
      "metadata": {
        "colab": {
          "base_uri": "https://localhost:8080/",
          "height": 206
        },
        "id": "zxhYtFgSetQY",
        "outputId": "38a64f62-01f5-444e-d72d-c8b83cac5f5e"
      },
      "outputs": [
        {
          "output_type": "execute_result",
          "data": {
            "text/plain": [
              "    country                                        description  points  price  \\\n",
              "0     Italy  Aromas include tropical fruit, broom, brimston...      87    NaN   \n",
              "1  Portugal  This is ripe and fruity, a wine that is smooth...      87   15.0   \n",
              "2        US  Tart and snappy, the flavors of lime flesh and...      87   14.0   \n",
              "3        US  Pineapple rind, lemon pith and orange blossom ...      87   13.0   \n",
              "4        US  Much like the regular bottling from 2012, this...      87   65.0   \n",
              "\n",
              "          variety               winery  \n",
              "0     White Blend              Nicosia  \n",
              "1  Portuguese Red  Quinta dos Avidagos  \n",
              "2      Pinot Gris            Rainstorm  \n",
              "3        Riesling           St. Julian  \n",
              "4      Pinot Noir         Sweet Cheeks  "
            ],
            "text/html": [
              "\n",
              "  <div id=\"df-2afc0b6e-6c1d-4dc4-80e4-a64eb540f3a3\" class=\"colab-df-container\">\n",
              "    <div>\n",
              "<style scoped>\n",
              "    .dataframe tbody tr th:only-of-type {\n",
              "        vertical-align: middle;\n",
              "    }\n",
              "\n",
              "    .dataframe tbody tr th {\n",
              "        vertical-align: top;\n",
              "    }\n",
              "\n",
              "    .dataframe thead th {\n",
              "        text-align: right;\n",
              "    }\n",
              "</style>\n",
              "<table border=\"1\" class=\"dataframe\">\n",
              "  <thead>\n",
              "    <tr style=\"text-align: right;\">\n",
              "      <th></th>\n",
              "      <th>country</th>\n",
              "      <th>description</th>\n",
              "      <th>points</th>\n",
              "      <th>price</th>\n",
              "      <th>variety</th>\n",
              "      <th>winery</th>\n",
              "    </tr>\n",
              "  </thead>\n",
              "  <tbody>\n",
              "    <tr>\n",
              "      <th>0</th>\n",
              "      <td>Italy</td>\n",
              "      <td>Aromas include tropical fruit, broom, brimston...</td>\n",
              "      <td>87</td>\n",
              "      <td>NaN</td>\n",
              "      <td>White Blend</td>\n",
              "      <td>Nicosia</td>\n",
              "    </tr>\n",
              "    <tr>\n",
              "      <th>1</th>\n",
              "      <td>Portugal</td>\n",
              "      <td>This is ripe and fruity, a wine that is smooth...</td>\n",
              "      <td>87</td>\n",
              "      <td>15.0</td>\n",
              "      <td>Portuguese Red</td>\n",
              "      <td>Quinta dos Avidagos</td>\n",
              "    </tr>\n",
              "    <tr>\n",
              "      <th>2</th>\n",
              "      <td>US</td>\n",
              "      <td>Tart and snappy, the flavors of lime flesh and...</td>\n",
              "      <td>87</td>\n",
              "      <td>14.0</td>\n",
              "      <td>Pinot Gris</td>\n",
              "      <td>Rainstorm</td>\n",
              "    </tr>\n",
              "    <tr>\n",
              "      <th>3</th>\n",
              "      <td>US</td>\n",
              "      <td>Pineapple rind, lemon pith and orange blossom ...</td>\n",
              "      <td>87</td>\n",
              "      <td>13.0</td>\n",
              "      <td>Riesling</td>\n",
              "      <td>St. Julian</td>\n",
              "    </tr>\n",
              "    <tr>\n",
              "      <th>4</th>\n",
              "      <td>US</td>\n",
              "      <td>Much like the regular bottling from 2012, this...</td>\n",
              "      <td>87</td>\n",
              "      <td>65.0</td>\n",
              "      <td>Pinot Noir</td>\n",
              "      <td>Sweet Cheeks</td>\n",
              "    </tr>\n",
              "  </tbody>\n",
              "</table>\n",
              "</div>\n",
              "    <div class=\"colab-df-buttons\">\n",
              "\n",
              "  <div class=\"colab-df-container\">\n",
              "    <button class=\"colab-df-convert\" onclick=\"convertToInteractive('df-2afc0b6e-6c1d-4dc4-80e4-a64eb540f3a3')\"\n",
              "            title=\"Convert this dataframe to an interactive table.\"\n",
              "            style=\"display:none;\">\n",
              "\n",
              "  <svg xmlns=\"http://www.w3.org/2000/svg\" height=\"24px\" viewBox=\"0 -960 960 960\">\n",
              "    <path d=\"M120-120v-720h720v720H120Zm60-500h600v-160H180v160Zm220 220h160v-160H400v160Zm0 220h160v-160H400v160ZM180-400h160v-160H180v160Zm440 0h160v-160H620v160ZM180-180h160v-160H180v160Zm440 0h160v-160H620v160Z\"/>\n",
              "  </svg>\n",
              "    </button>\n",
              "\n",
              "  <style>\n",
              "    .colab-df-container {\n",
              "      display:flex;\n",
              "      gap: 12px;\n",
              "    }\n",
              "\n",
              "    .colab-df-convert {\n",
              "      background-color: #E8F0FE;\n",
              "      border: none;\n",
              "      border-radius: 50%;\n",
              "      cursor: pointer;\n",
              "      display: none;\n",
              "      fill: #1967D2;\n",
              "      height: 32px;\n",
              "      padding: 0 0 0 0;\n",
              "      width: 32px;\n",
              "    }\n",
              "\n",
              "    .colab-df-convert:hover {\n",
              "      background-color: #E2EBFA;\n",
              "      box-shadow: 0px 1px 2px rgba(60, 64, 67, 0.3), 0px 1px 3px 1px rgba(60, 64, 67, 0.15);\n",
              "      fill: #174EA6;\n",
              "    }\n",
              "\n",
              "    .colab-df-buttons div {\n",
              "      margin-bottom: 4px;\n",
              "    }\n",
              "\n",
              "    [theme=dark] .colab-df-convert {\n",
              "      background-color: #3B4455;\n",
              "      fill: #D2E3FC;\n",
              "    }\n",
              "\n",
              "    [theme=dark] .colab-df-convert:hover {\n",
              "      background-color: #434B5C;\n",
              "      box-shadow: 0px 1px 3px 1px rgba(0, 0, 0, 0.15);\n",
              "      filter: drop-shadow(0px 1px 2px rgba(0, 0, 0, 0.3));\n",
              "      fill: #FFFFFF;\n",
              "    }\n",
              "  </style>\n",
              "\n",
              "    <script>\n",
              "      const buttonEl =\n",
              "        document.querySelector('#df-2afc0b6e-6c1d-4dc4-80e4-a64eb540f3a3 button.colab-df-convert');\n",
              "      buttonEl.style.display =\n",
              "        google.colab.kernel.accessAllowed ? 'block' : 'none';\n",
              "\n",
              "      async function convertToInteractive(key) {\n",
              "        const element = document.querySelector('#df-2afc0b6e-6c1d-4dc4-80e4-a64eb540f3a3');\n",
              "        const dataTable =\n",
              "          await google.colab.kernel.invokeFunction('convertToInteractive',\n",
              "                                                    [key], {});\n",
              "        if (!dataTable) return;\n",
              "\n",
              "        const docLinkHtml = 'Like what you see? Visit the ' +\n",
              "          '<a target=\"_blank\" href=https://colab.research.google.com/notebooks/data_table.ipynb>data table notebook</a>'\n",
              "          + ' to learn more about interactive tables.';\n",
              "        element.innerHTML = '';\n",
              "        dataTable['output_type'] = 'display_data';\n",
              "        await google.colab.output.renderOutput(dataTable, element);\n",
              "        const docLink = document.createElement('div');\n",
              "        docLink.innerHTML = docLinkHtml;\n",
              "        element.appendChild(docLink);\n",
              "      }\n",
              "    </script>\n",
              "  </div>\n",
              "\n",
              "\n",
              "<div id=\"df-38d41c6d-839a-4c62-8f4d-c1ad09c84946\">\n",
              "  <button class=\"colab-df-quickchart\" onclick=\"quickchart('df-38d41c6d-839a-4c62-8f4d-c1ad09c84946')\"\n",
              "            title=\"Suggest charts.\"\n",
              "            style=\"display:none;\">\n",
              "\n",
              "<svg xmlns=\"http://www.w3.org/2000/svg\" height=\"24px\"viewBox=\"0 0 24 24\"\n",
              "     width=\"24px\">\n",
              "    <g>\n",
              "        <path d=\"M19 3H5c-1.1 0-2 .9-2 2v14c0 1.1.9 2 2 2h14c1.1 0 2-.9 2-2V5c0-1.1-.9-2-2-2zM9 17H7v-7h2v7zm4 0h-2V7h2v10zm4 0h-2v-4h2v4z\"/>\n",
              "    </g>\n",
              "</svg>\n",
              "  </button>\n",
              "\n",
              "<style>\n",
              "  .colab-df-quickchart {\n",
              "      --bg-color: #E8F0FE;\n",
              "      --fill-color: #1967D2;\n",
              "      --hover-bg-color: #E2EBFA;\n",
              "      --hover-fill-color: #174EA6;\n",
              "      --disabled-fill-color: #AAA;\n",
              "      --disabled-bg-color: #DDD;\n",
              "  }\n",
              "\n",
              "  [theme=dark] .colab-df-quickchart {\n",
              "      --bg-color: #3B4455;\n",
              "      --fill-color: #D2E3FC;\n",
              "      --hover-bg-color: #434B5C;\n",
              "      --hover-fill-color: #FFFFFF;\n",
              "      --disabled-bg-color: #3B4455;\n",
              "      --disabled-fill-color: #666;\n",
              "  }\n",
              "\n",
              "  .colab-df-quickchart {\n",
              "    background-color: var(--bg-color);\n",
              "    border: none;\n",
              "    border-radius: 50%;\n",
              "    cursor: pointer;\n",
              "    display: none;\n",
              "    fill: var(--fill-color);\n",
              "    height: 32px;\n",
              "    padding: 0;\n",
              "    width: 32px;\n",
              "  }\n",
              "\n",
              "  .colab-df-quickchart:hover {\n",
              "    background-color: var(--hover-bg-color);\n",
              "    box-shadow: 0 1px 2px rgba(60, 64, 67, 0.3), 0 1px 3px 1px rgba(60, 64, 67, 0.15);\n",
              "    fill: var(--button-hover-fill-color);\n",
              "  }\n",
              "\n",
              "  .colab-df-quickchart-complete:disabled,\n",
              "  .colab-df-quickchart-complete:disabled:hover {\n",
              "    background-color: var(--disabled-bg-color);\n",
              "    fill: var(--disabled-fill-color);\n",
              "    box-shadow: none;\n",
              "  }\n",
              "\n",
              "  .colab-df-spinner {\n",
              "    border: 2px solid var(--fill-color);\n",
              "    border-color: transparent;\n",
              "    border-bottom-color: var(--fill-color);\n",
              "    animation:\n",
              "      spin 1s steps(1) infinite;\n",
              "  }\n",
              "\n",
              "  @keyframes spin {\n",
              "    0% {\n",
              "      border-color: transparent;\n",
              "      border-bottom-color: var(--fill-color);\n",
              "      border-left-color: var(--fill-color);\n",
              "    }\n",
              "    20% {\n",
              "      border-color: transparent;\n",
              "      border-left-color: var(--fill-color);\n",
              "      border-top-color: var(--fill-color);\n",
              "    }\n",
              "    30% {\n",
              "      border-color: transparent;\n",
              "      border-left-color: var(--fill-color);\n",
              "      border-top-color: var(--fill-color);\n",
              "      border-right-color: var(--fill-color);\n",
              "    }\n",
              "    40% {\n",
              "      border-color: transparent;\n",
              "      border-right-color: var(--fill-color);\n",
              "      border-top-color: var(--fill-color);\n",
              "    }\n",
              "    60% {\n",
              "      border-color: transparent;\n",
              "      border-right-color: var(--fill-color);\n",
              "    }\n",
              "    80% {\n",
              "      border-color: transparent;\n",
              "      border-right-color: var(--fill-color);\n",
              "      border-bottom-color: var(--fill-color);\n",
              "    }\n",
              "    90% {\n",
              "      border-color: transparent;\n",
              "      border-bottom-color: var(--fill-color);\n",
              "    }\n",
              "  }\n",
              "</style>\n",
              "\n",
              "  <script>\n",
              "    async function quickchart(key) {\n",
              "      const quickchartButtonEl =\n",
              "        document.querySelector('#' + key + ' button');\n",
              "      quickchartButtonEl.disabled = true;  // To prevent multiple clicks.\n",
              "      quickchartButtonEl.classList.add('colab-df-spinner');\n",
              "      try {\n",
              "        const charts = await google.colab.kernel.invokeFunction(\n",
              "            'suggestCharts', [key], {});\n",
              "      } catch (error) {\n",
              "        console.error('Error during call to suggestCharts:', error);\n",
              "      }\n",
              "      quickchartButtonEl.classList.remove('colab-df-spinner');\n",
              "      quickchartButtonEl.classList.add('colab-df-quickchart-complete');\n",
              "    }\n",
              "    (() => {\n",
              "      let quickchartButtonEl =\n",
              "        document.querySelector('#df-38d41c6d-839a-4c62-8f4d-c1ad09c84946 button');\n",
              "      quickchartButtonEl.style.display =\n",
              "        google.colab.kernel.accessAllowed ? 'block' : 'none';\n",
              "    })();\n",
              "  </script>\n",
              "</div>\n",
              "    </div>\n",
              "  </div>\n"
            ]
          },
          "metadata": {},
          "execution_count": 2
        }
      ],
      "source": [
        "df = pd.read_csv(\"wine-reviews.csv\", usecols = [\"country\",\"description\",\"points\",\"price\",\"variety\",\"winery\"])\n",
        "\n",
        "#or\n",
        "\n",
        "# df = pd.read_csv(\"wine-reviews.csv\").drop([\"Unnamed: 0\",\"designation\",\"province\",\"region_1\",\"region_2\",\"taster_name\",\"taster_twitter_handle\",\"title\"],axis=1)\n",
        "df.head()"
      ]
    },
    {
      "cell_type": "markdown",
      "metadata": {
        "id": "oC6XSUacNySf"
      },
      "source": [
        "Removing Rows where description or points column is empty and plotting histogram of frequency of different points"
      ]
    },
    {
      "cell_type": "code",
      "execution_count": 3,
      "metadata": {
        "colab": {
          "base_uri": "https://localhost:8080/",
          "height": 472
        },
        "id": "vy1xq6oxke10",
        "outputId": "b2212213-f5a4-48c4-e499-ca64b5b34275"
      },
      "outputs": [
        {
          "output_type": "display_data",
          "data": {
            "text/plain": [
              "<Figure size 640x480 with 1 Axes>"
            ],
            "image/png": "[encoded data removed]"
          },
          "metadata": {}
        }
      ],
      "source": [
        "#method that removes missing or null values from a dataset, \"subset\" specifies columns to consider when dropping rows or columns\n",
        "df = df.dropna(subset=[\"description\",\"points\"])\n",
        "\n",
        "#plotting a histogram\n",
        "plt.hist(df[\"points\"],color='cyan')\n",
        "plt.title(\"Points Histogram\")\n",
        "plt.ylabel(\"No of Values\")\n",
        "plt.xlabel(\"Points\")\n",
        "plt.show()"
      ]
    },
    {
      "cell_type": "markdown",
      "metadata": {
        "id": "6PV__HMvP6iS"
      },
      "source": [
        "Feature Engineering - creating a new binary output label based on the points output column. Essentially mapping points>=90 to an output label of 1 and points<90 to an output label of 0"
      ]
    },
    {
      "cell_type": "code",
      "execution_count": 4,
      "metadata": {
        "id": "Sgymh7gbW7fn"
      },
      "outputs": [],
      "source": [
        "#creating a label column containing 0 and 1s\n",
        "df[\"label\"] = (df.points>=90).astype(int)\n",
        "\n",
        "df = df[[\"description\",\"points\",\"label\"]]\n",
        "\n",
        "#separating the train, validation and test datasets\n",
        "train, validation, test = np.split(df.sample(frac=1), [int(0.8*len(df)),int(0.9*len(df))])"
      ]
    },
    {
      "cell_type": "markdown",
      "metadata": {
        "id": "dLwmhbC1SgKY"
      },
      "source": [
        "Converting Pandas DataFrame into TensorFlow Dataset object.\n",
        "This is necessary to prepare data in format that can be used efficiently by TensorFlow, especially when working with textual data in the case of NLP"
      ]
    },
    {
      "cell_type": "code",
      "execution_count": 5,
      "metadata": {
        "id": "wuu_DIgkbZW6"
      },
      "outputs": [],
      "source": [
        "# function that takes a pandas dataframe as input and returns a TensorFlow dataset object.\n",
        "def df_to_dataset(dataframe, shuffle=True, batch_size=1024):\n",
        "  df = dataframe.copy()  # Create a copy of the input DataFrame to avoid modifying it directly\n",
        "  labels = df.pop('label')  # Extract the 'label' column from the DataFrame and remove it from df\n",
        "  df = df[\"description\"]  # Keep only the 'description' column in df\n",
        "  ds = tf.data.Dataset.from_tensor_slices((df, labels))  # Create a TensorFlow Dataset from the description data and labels\n",
        "  if shuffle:\n",
        "    ds = ds.shuffle(buffer_size=len(dataframe))  # Shuffle the dataset if shuffle is True\n",
        "  ds = ds.batch(batch_size)  # Create batches of the dataset with the specified batch size\n",
        "  ds = ds.prefetch(tf.data.AUTOTUNE)  # Prefetch data for better performance\n",
        "  return ds  # Return the processed TensorFlow Dataset\n"
      ]
    },
    {
      "cell_type": "code",
      "execution_count": 6,
      "metadata": {
        "id": "mk3Ip5oKdp7N"
      },
      "outputs": [],
      "source": [
        "train_tf_dataset = df_to_dataset(train)\n",
        "val_tf_dataset = df_to_dataset(validation)\n",
        "test_tf_dataset = df_to_dataset(test)"
      ]
    },
    {
      "cell_type": "markdown",
      "metadata": {
        "id": "m980yqO0ZO3_"
      },
      "source": [
        "# TensorFlow FeedForward Neural Network Architecture with Token Based Text Embedding"
      ]
    },
    {
      "cell_type": "markdown",
      "metadata": {
        "id": "8plWshbkhVbM"
      },
      "source": [
        "A token-based text embedding is a technique used to represent textual data as vectors of numerical values in a way that captures the semantic meaning of the text. In this approach, each word or subword in the text is represented by a fixed-size vector, which is learned from a large corpus of text using deep learning algorithms such as neural networks.\n",
        "\n",
        "The process of generating text embeddings typically involves the following steps:\n",
        "\n",
        "Tokenization: The text is split into individual words or subwords, depending on the tokenizer used.\n",
        "\n",
        "Indexing: Each word or subword is assigned a unique integer index that maps to a vector in the embedding matrix.\n",
        "\n",
        "Embedding: The embedding matrix is initialized with random values and updated during training to optimize a loss function that measures the quality of the embeddings. The goal is to learn a set of embedding vectors that capture the semantic relationships between words in the text.\n",
        "\n",
        "\n",
        "TensorFlow example text classification with movie reviews documentation: https://www.tensorflow.org/hub/tutorials/tf2_text_classification\n",
        "\n",
        "TensorFlow Hub Model for text embedding (nnlm-en-dim50/2): https://tfhub.dev/google/nnlm-en-dim50/2"
      ]
    },
    {
      "cell_type": "markdown",
      "metadata": {
        "id": "0leheKrFcfKI"
      },
      "source": [
        "First Keras layer that uses a TensorFlow Hub model to embed the sentences: This layer uses a pre-trained Saved Model to map a sentence into its embedding vector. The model that we are using (google/nnlm-en-dim50/2) splits the sentence into tokens, embeds each token and then combines the embedding. The resulting dimensions are: (num_examples, embedding_dimension)."
      ]
    },
    {
      "cell_type": "code",
      "execution_count": null,
      "metadata": {
        "colab": {
          "base_uri": "https://localhost:8080/"
        },
        "id": "DUCqSpULfbrN",
        "outputId": "cade9541-a784-43a2-b8a0-90b4b325d551"
      },
      "outputs": [
        {
          "data": {
            "text/plain": [
              "<tf.Tensor: shape=(1024, 50), dtype=float32, numpy=\n",
              "array([[ 0.40730077, -0.389088  , -0.13958672, ..., -0.09506935,\n",
              "        -0.07809962,  0.22596331],\n",
              "       [ 0.46935362, -0.27004373, -0.15425786, ...,  0.03911992,\n",
              "        -0.06013145,  0.23949085],\n",
              "       [ 0.44627008, -0.17253546, -0.01537439, ...,  0.09055022,\n",
              "        -0.30940676,  0.08715522],\n",
              "       ...,\n",
              "       [ 0.10406947, -0.26482335,  0.18094303, ...,  0.09522269,\n",
              "        -0.00907054,  0.04241081],\n",
              "       [ 0.02250067, -0.34525156,  0.12420916, ...,  0.07595891,\n",
              "        -0.0269012 , -0.0678947 ],\n",
              "       [ 0.3068943 , -0.14828463, -0.01070997, ...,  0.01061942,\n",
              "        -0.12123633, -0.08146781]], dtype=float32)>"
            ]
          },
          "execution_count": 7,
          "metadata": {},
          "output_type": "execute_result"
        }
      ],
      "source": [
        "embedding = \"https://tfhub.dev/google/nnlm-en-dim50/2\"\n",
        "#This pre-trained text embedding is used as first layer of neural network, converting descriptions into embeddings vectors\n",
        "hub_layer = hub.KerasLayer(embedding, dtype=tf.string, trainable=True)\n",
        "\n",
        "hub_layer(list(train_tf_dataset)[0][0])\n"
      ]
    },
    {
      "cell_type": "markdown",
      "metadata": {
        "id": "rhX1JKmcczU7"
      },
      "source": [
        "Defining remaining layers of Neural Network Architecture"
      ]
    },
    {
      "cell_type": "code",
      "execution_count": null,
      "metadata": {
        "id": "Rm0rFUUBaNqc"
      },
      "outputs": [],
      "source": [
        "model = tf.keras.Sequential()\n",
        "model.add(hub_layer)\n",
        "model.add(tf.keras.layers.Dense(16, activation='relu'))\n",
        "model.add(tf.keras.layers.Dropout(0.4))\n",
        "model.add(tf.keras.layers.Dense(16, activation='relu'))\n",
        "model.add(tf.keras.layers.Dropout(0.4))\n",
        "model.add(tf.keras.layers.Dense(1, activation='sigmoid'))\n"
      ]
    },
    {
      "cell_type": "markdown",
      "metadata": {
        "id": "0hTlFaKtnkcB"
      },
      "source": [
        "Compiling and Training the Model"
      ]
    },
    {
      "cell_type": "code",
      "execution_count": null,
      "metadata": {
        "colab": {
          "base_uri": "https://localhost:8080/"
        },
        "id": "EMNOQShCdMpb",
        "outputId": "37147edb-f63b-4f21-bfd6-956ef5eb1a80"
      },
      "outputs": [
        {
          "name": "stdout",
          "output_type": "stream",
          "text": [
            "Epoch 1/5\n",
            "102/102 [==============================] - 169s 2s/step - loss: 0.6113 - accuracy: 0.6532 - recall: 0.2581 - val_loss: 0.4808 - val_accuracy: 0.7839 - val_recall: 0.7139\n",
            "Epoch 2/5\n",
            "102/102 [==============================] - 143s 1s/step - loss: 0.4574 - accuracy: 0.7945 - recall: 0.7179 - val_loss: 0.3990 - val_accuracy: 0.8159 - val_recall: 0.7624\n",
            "Epoch 3/5\n",
            "102/102 [==============================] - 154s 2s/step - loss: 0.3919 - accuracy: 0.8346 - recall: 0.7743 - val_loss: 0.3817 - val_accuracy: 0.8239 - val_recall: 0.7752\n",
            "Epoch 4/5\n",
            "102/102 [==============================] - 162s 2s/step - loss: 0.3581 - accuracy: 0.8509 - recall: 0.7917 - val_loss: 0.3767 - val_accuracy: 0.8255 - val_recall: 0.7982\n",
            "Epoch 5/5\n",
            "102/102 [==============================] - 164s 2s/step - loss: 0.3353 - accuracy: 0.8610 - recall: 0.7996 - val_loss: 0.3753 - val_accuracy: 0.8278 - val_recall: 0.7924\n"
          ]
        }
      ],
      "source": [
        "model.compile(optimizer=tf.keras.optimizers.Adam(learning_rate=0.001),\n",
        "              loss=tf.keras.losses.BinaryCrossentropy(),\n",
        "              metrics=['accuracy',tf.keras.metrics.Recall()])\n",
        "\n",
        "#Training the model using training TensorFlow dataset across 5 epochs.\n",
        "#While training, monitor the model's loss, accuracy and recall on the validation dataset:\n",
        "history = model.fit(train_tf_dataset, epochs=5, validation_data=val_tf_dataset)\n"
      ]
    },
    {
      "cell_type": "markdown",
      "metadata": {
        "id": "wpvczyeFnjH9"
      },
      "source": [
        "Evaluating Model on Test TensorFlow Dataset"
      ]
    },
    {
      "cell_type": "code",
      "execution_count": null,
      "metadata": {
        "colab": {
          "base_uri": "https://localhost:8080/"
        },
        "id": "7g93rqA9huyV",
        "outputId": "9a5b7a54-ac61-48bf-9212-f750b45fee56"
      },
      "outputs": [
        {
          "name": "stdout",
          "output_type": "stream",
          "text": [
            "13/13 [==============================] - 3s 252ms/step - loss: 0.3945 - accuracy: 0.8279 - recall: 0.7796\n",
            "Test Loss: 0.39454707503318787\n",
            "Test Accuracy: 0.8278965950012207\n",
            "Test Recall: 0.7795742750167847\n"
          ]
        }
      ],
      "source": [
        "test_loss, test_accuracy, test_recall = model.evaluate(test_tf_dataset)\n",
        "\n",
        "print(f\"Test Loss: {test_loss}\")\n",
        "print(f\"Test Accuracy: {test_accuracy}\")\n",
        "print(f\"Test Recall: {test_recall}\")"
      ]
    },
    {
      "cell_type": "markdown",
      "metadata": {
        "id": "NTOSg0akoH8O"
      },
      "source": [
        "# Plotting graphs of accuracy, loss and recall over time during model training process"
      ]
    },
    {
      "cell_type": "code",
      "execution_count": null,
      "metadata": {
        "colab": {
          "base_uri": "https://localhost:8080/"
        },
        "id": "cwNGpVGspHlT",
        "outputId": "69558462-5ac9-449c-cb7d-898777a7b817"
      },
      "outputs": [
        {
          "data": {
            "text/plain": [
              "dict_keys(['loss', 'accuracy', 'recall', 'val_loss', 'val_accuracy', 'val_recall'])"
            ]
          },
          "execution_count": 30,
          "metadata": {},
          "output_type": "execute_result"
        }
      ],
      "source": [
        "#Access model training history\n",
        "history_dict = history.history\n",
        "\n",
        "history_dict.keys()"
      ]
    },
    {
      "cell_type": "code",
      "execution_count": null,
      "metadata": {
        "id": "jR_W7l5TpeQJ"
      },
      "outputs": [],
      "source": [
        "train_acc = history_dict['accuracy']\n",
        "train_loss = history_dict['loss']\n",
        "train_recall = history_dict['recall']\n",
        "\n",
        "val_acc = history_dict['val_accuracy']\n",
        "val_loss = history_dict['val_loss']\n",
        "val_recall = history_dict['val_recall']\n",
        "\n",
        "epochs = range(1,len(train_acc)+1)"
      ]
    },
    {
      "cell_type": "markdown",
      "metadata": {
        "id": "ZFxMsYS6qTi8"
      },
      "source": [
        "Training and Validation Loss over time"
      ]
    },
    {
      "cell_type": "code",
      "execution_count": null,
      "metadata": {
        "colab": {
          "base_uri": "https://localhost:8080/",
          "height": 472
        },
        "id": "jgb0QP7gqWXS",
        "outputId": "059a796c-4d19-4da5-d978-7eaa53346133"
      },
      "outputs": [
        {
          "data": {
            "image/png": "[encoded data removed]",
            "text/plain": [
              "<Figure size 640x480 with 1 Axes>"
            ]
          },
          "metadata": {},
          "output_type": "display_data"
        }
      ],
      "source": [
        "plt.plot(epochs, train_loss, label='Training loss')\n",
        "plt.plot(epochs, val_loss, label='Validation loss')\n",
        "plt.title('Training and validation loss')\n",
        "plt.xlabel('Epochs')\n",
        "plt.ylabel('Loss')\n",
        "plt.legend()\n",
        "\n",
        "plt.show()"
      ]
    },
    {
      "cell_type": "markdown",
      "metadata": {
        "id": "puFhtvOcqubP"
      },
      "source": [
        "Training and Validation Accuracy over time"
      ]
    },
    {
      "cell_type": "code",
      "execution_count": null,
      "metadata": {
        "colab": {
          "base_uri": "https://localhost:8080/",
          "height": 472
        },
        "id": "JMPJaiCxqxwo",
        "outputId": "742525c0-738b-4006-eb43-f8fe462b0411"
      },
      "outputs": [
        {
          "data": {
            "image/png": "[encoded data removed]",
            "text/plain": [
              "<Figure size 640x480 with 1 Axes>"
            ]
          },
          "metadata": {},
          "output_type": "display_data"
        }
      ],
      "source": [
        "# \"bo\" is for \"blue dot\"\n",
        "plt.plot(epochs, train_acc, 'bo', label='Training accuracy')\n",
        "# b is for \"solid blue line\"\n",
        "plt.plot(epochs, val_acc, 'b', label='Validation accuracy')\n",
        "plt.title('Training and validation accuracy')\n",
        "plt.xlabel('Epochs')\n",
        "plt.ylabel('Accuracy')\n",
        "plt.legend()\n",
        "\n",
        "plt.show()"
      ]
    },
    {
      "cell_type": "markdown",
      "metadata": {
        "id": "cF8RG1rIrY0v"
      },
      "source": [
        "Training and Validation Recall over time"
      ]
    },
    {
      "cell_type": "code",
      "execution_count": null,
      "metadata": {
        "colab": {
          "base_uri": "https://localhost:8080/",
          "height": 472
        },
        "id": "y-odC47JrbNf",
        "outputId": "f6b0b13e-6f47-4cf5-beea-d81674346d53"
      },
      "outputs": [
        {
          "data": {
            "image/png": "[encoded data removed]",
            "text/plain": [
              "<Figure size 640x480 with 1 Axes>"
            ]
          },
          "metadata": {},
          "output_type": "display_data"
        }
      ],
      "source": [
        "# \"bo\" is for \"blue dot\"\n",
        "plt.plot(epochs, train_recall, 'bo', label='Training recall')\n",
        "# b is for \"solid blue line\"\n",
        "plt.plot(epochs, val_recall, 'b', label='Validation recall')\n",
        "plt.title('Training and validation recall')\n",
        "plt.xlabel('Epochs')\n",
        "plt.ylabel('Recall')\n",
        "plt.legend()\n",
        "\n",
        "plt.show()"
      ]
    },
    {
      "cell_type": "markdown",
      "metadata": {
        "id": "lvA-gDeJrycX"
      },
      "source": [
        "Notice the training loss decreases with each epoch and the training accuracy and recall increase with each epoch. But this isn't the case for the validation dataset, indicating overfitting: where the model performs better on the training data than it does on data it has never seen before."
      ]
    },
    {
      "cell_type": "markdown",
      "metadata": {
        "id": "cnwFirZs0Et5"
      },
      "source": [
        "# LSTM Recurrent Neural Network"
      ]
    },
    {
      "cell_type": "markdown",
      "metadata": {
        "id": "OJUGiPdW01lV"
      },
      "source": [
        "LSTM stands for Long Short-Term Memory, and it's a type of recurrent neural network (RNN) architecture designed to handle sequences and time-dependent data. LSTMs are particularly effective in capturing long-range dependencies in sequential data, which refer to relationships or patterns that exist between elements of the sequence that are far apart from each other.\n",
        "\n",
        "Traditional RNNs struggle with capturing such long-range dependencies due to the vanishing gradient problem. As the sequence length increases, the gradients that backpropagate through the network can become very small, leading to difficulties in learning relationships that are distant in time. LSTMs were designed to address this issue by incorporating memory cells and gating mechanisms that allow them to selectively remember or forget information over extended periods, enabling them to capture dependencies even when they span a long sequence.\n",
        "\n",
        "TensorFlow Text Classification with Recurrent Neural Networks documentation: https://www.tensorflow.org/text/tutorials/text_classification_rnn"
      ]
    },
    {
      "cell_type": "markdown",
      "metadata": {
        "id": "or1pmUy22hcJ"
      },
      "source": [
        "Creating Text Encoder using TextVectorization Layer to process text before it can be used in Model (converts raw text to integer sequences)"
      ]
    },
    {
      "cell_type": "code",
      "execution_count": 7,
      "metadata": {
        "id": "QfInqlsx14En"
      },
      "outputs": [],
      "source": [
        "#size of vocabulary used for tokenization, in this case will keep track of 2000 most frequent words from my text data\n",
        "VOCAB_SIZE = 2000\n",
        "\n",
        "#converts raw text into integer sequences by tokenizing the text (eg splitting sentences into words/smaller token units)\n",
        "#and mapping tokens to integer indices based on a learned vocabulary.\n",
        "encoder = tf.keras.layers.TextVectorization(\n",
        "    #sets the maximum number of tokens (words) to keep in the vocabulary.\n",
        "    max_tokens=VOCAB_SIZE)\n",
        "\n",
        "#Adapting the Encoder to the Training Data, encoder will analyze the training data, tokenize the text, and build the vocabulary\n",
        "encoder.adapt(train_tf_dataset.map(lambda text, label: text))"
      ]
    },
    {
      "cell_type": "markdown",
      "metadata": {
        "id": "3K56Crjim-Ps"
      },
      "source": [
        "Recurrent Neural Network Architecture"
      ]
    },
    {
      "cell_type": "code",
      "execution_count": 8,
      "metadata": {
        "id": "gK_K_KwU5Lc_"
      },
      "outputs": [],
      "source": [
        "model = tf.keras.Sequential([\n",
        "    encoder,\n",
        "\n",
        "    #embedding layer converts integer sequences (generated by the TextVectorization/Encoder layer above) into dense vector representations called embeddings, which capture semantic relationships between words\n",
        "    tf.keras.layers.Embedding(\n",
        "        input_dim=len(encoder.get_vocabulary()),\n",
        "        output_dim=64,\n",
        "        # Use masking to handle variable sequence lengths (padding tokens/0s are added\n",
        "        #to shorter sequences to ensure all integer sequences have the same length,\n",
        "        #but the zeros (padding tokens) are ignored during the computation of embeddings, so that padding tokens dont affect semantic meaning)\n",
        "        mask_zero=True),\n",
        "\n",
        "    #A bidirectional LSTM processes sequences in both forward and backward directions, capturing contextual information from both sides of the sequence.\n",
        "    tf.keras.layers.Bidirectional(tf.keras.layers.LSTM(64)),\n",
        "    tf.keras.layers.Dense(64, activation='relu'),\n",
        "    tf.keras.layers.Dense(1, activation='sigmoid')\n",
        "])"
      ]
    },
    {
      "cell_type": "markdown",
      "metadata": {
        "id": "wRkpbj200PH9"
      },
      "source": [
        "Compiling and training the model"
      ]
    },
    {
      "cell_type": "code",
      "execution_count": 9,
      "metadata": {
        "colab": {
          "base_uri": "https://localhost:8080/"
        },
        "id": "r2BHPmNw6XoJ",
        "outputId": "3c8dc030-9b93-48f2-9109-b326eb97b20d"
      },
      "outputs": [
        {
          "output_type": "stream",
          "name": "stdout",
          "text": [
            "Epoch 1/5\n",
            "102/102 [==============================] - 171s 2s/step - loss: 0.4705 - accuracy: 0.7598 - val_loss: 0.3552 - val_accuracy: 0.8412\n",
            "Epoch 2/5\n",
            "102/102 [==============================] - 158s 2s/step - loss: 0.3457 - accuracy: 0.8431 - val_loss: 0.3530 - val_accuracy: 0.8418\n",
            "Epoch 3/5\n",
            "102/102 [==============================] - 158s 2s/step - loss: 0.3339 - accuracy: 0.8484 - val_loss: 0.3460 - val_accuracy: 0.8440\n",
            "Epoch 4/5\n",
            "102/102 [==============================] - 161s 2s/step - loss: 0.3277 - accuracy: 0.8515 - val_loss: 0.3536 - val_accuracy: 0.8412\n",
            "Epoch 5/5\n",
            "102/102 [==============================] - 156s 2s/step - loss: 0.3235 - accuracy: 0.8540 - val_loss: 0.3484 - val_accuracy: 0.8417\n"
          ]
        }
      ],
      "source": [
        "model.compile(loss=tf.keras.losses.BinaryCrossentropy(),\n",
        "              optimizer=tf.keras.optimizers.Adam(),\n",
        "              metrics=['accuracy'])\n",
        "\n",
        "history = model.fit(train_tf_dataset, epochs=5,\n",
        "                    validation_data = val_tf_dataset,\n",
        "                   )"
      ]
    },
    {
      "cell_type": "markdown",
      "metadata": {
        "id": "F8aTj2AI0dyZ"
      },
      "source": [
        "Evaluating Model on test dataset"
      ]
    },
    {
      "cell_type": "code",
      "execution_count": 10,
      "metadata": {
        "colab": {
          "base_uri": "https://localhost:8080/"
        },
        "id": "rVpB8NZIscVZ",
        "outputId": "a49a499e-1fb6-447a-9d35-c832a3f5b704"
      },
      "outputs": [
        {
          "output_type": "stream",
          "name": "stdout",
          "text": [
            "13/13 [==============================] - 6s 480ms/step - loss: 0.3468 - accuracy: 0.8420\n",
            "Test Loss: 0.3467594385147095\n",
            "Test Accuracy: 0.8419756889343262\n"
          ]
        }
      ],
      "source": [
        "test_loss, test_accuracy = model.evaluate(test_tf_dataset)\n",
        "\n",
        "print(f\"Test Loss: {test_loss}\")\n",
        "print(f\"Test Accuracy: {test_accuracy}\")"
      ]
    },
    {
      "cell_type": "markdown",
      "metadata": {
        "id": "8OKmtSF71PLt"
      },
      "source": [
        "Plotting graphs of accuracy and loss over time during model training"
      ]
    },
    {
      "cell_type": "code",
      "execution_count": 11,
      "metadata": {
        "id": "b9L5ueWg1y-n"
      },
      "outputs": [],
      "source": [
        "def plot_graphs(history, metric):\n",
        "  plt.plot(history.history[metric])\n",
        "  plt.plot(history.history['val_'+metric], '')\n",
        "  plt.xlabel(\"Epochs\")\n",
        "  plt.ylabel(metric)\n",
        "  plt.legend([metric, 'val_'+metric])"
      ]
    },
    {
      "cell_type": "code",
      "execution_count": 12,
      "metadata": {
        "colab": {
          "base_uri": "https://localhost:8080/",
          "height": 513
        },
        "id": "nDetfJuB0hNc",
        "outputId": "53712ab2-6e21-41bb-b373-7b866e4a0c76"
      },
      "outputs": [
        {
          "output_type": "execute_result",
          "data": {
            "text/plain": [
              "(0.0, 0.47780628949403764)"
            ]
          },
          "metadata": {},
          "execution_count": 12
        },
        {
          "output_type": "display_data",
          "data": {
            "text/plain": [
              "<Figure size 1600x800 with 2 Axes>"
            ],
            "image/png": "[encoded data removed]"
          },
          "metadata": {}
        }
      ],
      "source": [
        "plt.figure(figsize=(16, 8))\n",
        "plt.subplot(1, 2, 1)\n",
        "plot_graphs(history, 'accuracy')\n",
        "plt.ylim(None, 1)\n",
        "plt.subplot(1, 2, 2)\n",
        "plot_graphs(history, 'loss')\n",
        "plt.ylim(0, None)"
      ]
    },
    {
      "cell_type": "markdown",
      "metadata": {
        "id": "oPMPgXZzmyKZ"
      },
      "source": [
        "# Web Scraping to obtain wine blog posts from www.vinography.com\n",
        "\n"
      ]
    },
    {
      "cell_type": "markdown",
      "metadata": {
        "id": "EHQE_KOvlRgg"
      },
      "source": [
        "Using Beautiful Soup to obtain all the Wine Articles' Links"
      ]
    },
    {
      "cell_type": "code",
      "execution_count": 13,
      "metadata": {
        "colab": {
          "base_uri": "https://localhost:8080/"
        },
        "id": "j3Nbwc5XB469",
        "outputId": "d63dd543-b541-429d-eb77-8e402ac8a559"
      },
      "outputs": [
        {
          "output_type": "execute_result",
          "data": {
            "text/plain": [
              "[<a data-wpel-link=\"internal\" href=\"https://www.vinography.com/2023/09/vinography-unboxed-week-of-8-27-23\">Vinography Unboxed: Week of 8/27/23</a>,\n",
              " <a data-wpel-link=\"internal\" href=\"https://www.vinography.com/2023/08/ultramarine-californias-first-cult-sparkling-wine\">Ultramarine: California’s First Cult Sparkling Wine</a>,\n",
              " <a data-wpel-link=\"internal\" href=\"https://www.vinography.com/2023/08/vinography-unboxed-week-of-8-20-23\">Vinography Unboxed: Week of 8/20/23</a>,\n",
              " <a data-wpel-link=\"internal\" href=\"https://www.vinography.com/2023/08/vinography-unboxed-week-of-8-13-23\">Vinography Unboxed: Week of 8/13/23</a>,\n",
              " <a data-wpel-link=\"internal\" href=\"https://www.vinography.com/2023/08/santa-barbaras-sta-rita-hills\">Santa Barbara’s Sta. Rita Hills</a>,\n",
              " <a data-wpel-link=\"internal\" href=\"https://www.vinography.com/2023/08/surprising-santa-barbara\">Surprising Santa Barbara</a>,\n",
              " <a data-wpel-link=\"internal\" href=\"https://www.vinography.com/2023/08/vinography-unboxed-week-of-8-6-23\">Vinography Unboxed: Week of 8/6/23</a>,\n",
              " <a data-wpel-link=\"internal\" href=\"https://www.vinography.com/2023/08/vinography-unboxed-week-of-4-30-23-2\">Vinography Unboxed: Week of 7/30/23</a>,\n",
              " <a data-wpel-link=\"internal\" href=\"https://www.vinography.com/2023/08/true-wine-or-cold-cleverness-thoughts-from-nicolas-joly\">True Wine or Cold Cleverness: Thoughts from Nicolas Joly</a>,\n",
              " <a data-wpel-link=\"internal\" href=\"https://www.vinography.com/2023/07/vinography-unboxed-week-of-7-16-23\">Vinography Unboxed: Week of 7/16/23</a>,\n",
              " <a data-wpel-link=\"internal\" href=\"https://www.vinography.com/2023/07/vinography-unboxed-week-of-7-9-23\">Vinography Unboxed: Week of 7/9/23</a>,\n",
              " <a data-wpel-link=\"internal\" href=\"https://www.vinography.com/2023/07/fine-california-rose-no-longer-an-oxymoron\">Fine California Rosé – No Longer An Oxymoron</a>,\n",
              " <a data-wpel-link=\"internal\" href=\"https://www.vinography.com/2023/07/vinography-unboxed-week-of-7-2-23\">Vinography Unboxed: Week of 7/2/23</a>,\n",
              " <a data-wpel-link=\"internal\" href=\"https://www.vinography.com/2023/06/vinography-unboxed-week-of-6-11-23\">Vinography Unboxed: Week of 6/11/23</a>,\n",
              " <a data-wpel-link=\"internal\" href=\"https://www.vinography.com/2023/06/vinography-unboxed-week-of-6-4-23\">Vinography Unboxed: Week of 6/4/23</a>,\n",
              " <a data-wpel-link=\"internal\" href=\"https://www.vinography.com/2023/06/the-dark-jewel-of-umbria-thoughts-on-montefalco-sagrantino\">The Dark Jewel of Umbria: Thoughts on Montefalco Sagrantino</a>,\n",
              " <a data-wpel-link=\"internal\" href=\"https://www.vinography.com/2023/05/vinography-unboxed-week-of-5-14-23\">Vinography Unboxed: Week of 5/14/23</a>,\n",
              " <a data-wpel-link=\"internal\" href=\"https://www.vinography.com/2023/05/vinography-unboxed-week-of-5-7-23\">Vinography Unboxed: Week of 5/7/23</a>,\n",
              " <a data-wpel-link=\"internal\" href=\"https://www.vinography.com/2023/05/vinography-unboxed-week-of-4-30-23\">Vinography Unboxed: Week of 4/30/23</a>]"
            ]
          },
          "metadata": {},
          "execution_count": 13
        }
      ],
      "source": [
        "import requests\n",
        "from bs4 import BeautifulSoup\n",
        "import pandas as pd\n",
        "\n",
        "url = \"https://www.vinography.com/category/wine-reviews\"\n",
        "response = requests.get(url)\n",
        "# Check the 'Content-Type' header for the encoding\n",
        "# content_type = response.headers.get('Content-Type')\n",
        "# encoding = content_type.split('charset=')[-1]\n",
        "# print(\"Encoding:\", encoding)\n",
        "soup = BeautifulSoup(response.text, 'html.parser')\n",
        "\n",
        "article_links = []\n",
        "\n",
        "# Find all <h2> tags\n",
        "h2_tags = soup.find_all('h2')\n",
        "\n",
        "# Iterate through the <h2> tags and find the <a> tags within each <h2>\n",
        "for h2_tag in h2_tags:\n",
        "    # Find all <a> tags within the current <h2> tag\n",
        "    a_tags_within_h2 = h2_tag.find_all('a')\n",
        "\n",
        "    # Append the <a> tags found within the <h2>\n",
        "    for a_tag in a_tags_within_h2:\n",
        "        article_links.append(a_tag)\n",
        "\n",
        "article_links"
      ]
    },
    {
      "cell_type": "markdown",
      "metadata": {
        "id": "QLmdB1kBlZxH"
      },
      "source": [
        "Getting Article Content/Data from Article Links"
      ]
    },
    {
      "cell_type": "code",
      "execution_count": 14,
      "metadata": {
        "colab": {
          "base_uri": "https://localhost:8080/"
        },
        "id": "yOaVydISF0eT",
        "outputId": "c4f85eae-f15c-4f98-96ac-2d7d546a8792"
      },
      "outputs": [
        {
          "output_type": "execute_result",
          "data": {
            "text/plain": [
              "['a wine blog',\n",
              " 'Hello and welcome to my weekly dig through the pile of wine samples that show up asking to be tasted. I’m pleased to bring you the latest installment of Vinography Unboxed, where I highlight some of the better bottles that have crossed my doorstep recently.',\n",
              " 'This past week included a bright and stony Sauvignon Blanc from Trois Noix wines in Napa, which is admirable for its slightly more austere approach to the grape which reminds me of the more typical European interpretation of the variety.',\n",
              " 'I’m always excited to receive the wines from Can Sumoi, a natural wine project by Raventos i Blanc, based on the revitalization of an old farm in the Penedes region of Spain and its indigenous grape varieties. These wines are made with minimal sulfur additions, organically farmed grapes, and yet they’re wonderfully clean and pure. They also come in cute, squat bottles that are probably a nightmare to put into a rack, but look pretty neat.',\n",
              " 'I’ve got another Armenian wine to share with you this week, from producer Van Ardi, begun by a public accountant from Los Angeles who decided to return to his homeland and make wine. It’s a lovely interpretation of the native Areni Noir grape with a little age on it.',\n",
              " 'I also got the latest release from legendary Montalcino producer Biondi-Santi this week. Their 2020 Rosso di Montalcino is elegant and refined, and while it may not have the profundity of Brunello, it’s still delicious and will likely age beautifully. It’s also a darn sight cheaper than the pricey and hard-to-find Brunello.',\n",
              " 'Lastly, I’ve got a couple of rich reds from Peter Mathis at Mathis Wine, who focuses on making wines from Sonoma Valley. For those looking for robust and powerful red wines, you’ll enjoy both his Grenache and his unusual blend of Petite Sirah, Grenache and other grapes.',\n",
              " 'Notes on all these below.',\n",
              " '2022 Troix Noix “Ryan’s Vineyard” Sauvignon Blanc, Oak Knoll District, Napa, CaliforniaPalest gold in the glass with a hint of green, this wine smells of orange peel and passionfruit. In the mouth, orange peel and green apple flavors have a lean crispness thanks to very good acidity. There’s a slightly austere, wet pavement quality to this wine that is compelling. 13.3% alcohol. Certified B Corporation. Score: around 8.5. Cost: $40. click to buy.',\n",
              " '2022 Can Sumoi Garnaxta Blanca, SpainPale blonde in color, this wine smells of ripe golden apples and white flowers. In the mouth, slightly melon-like flavors mix with white flowers and golden apples as hints of citrus pith emerge in the finish. Bright and juicy thanks to very good acidity. 12.5% alcohol. Certified organic. Score: between 8.5 and 9. Cost: $??',\n",
              " '2022 Can Sumoi “La Rosa” Rosé, Penedes, Catalunya, SpainPalest peachy pink in the glass, this wine smells of candle wax, hibiscus, and citrus peel. In the mouth, bright flavors of citrus peel, redcurrant, and watermelon rind have a nice briskness thanks to excellent acidity. A blend of 50% Sumoll, 30% Parellada, and 20% Xarel-lo that macerates for 4 hours on the skins. 11.5% alcohol. Certified organic. Score: around 9. Cost: $23. click to buy.',\n",
              " '2021 Can Sumoi Red Blend, SpainLight to medium garnet in the glass, this wine smells of forest berries and wet pavement. In the mouth, crunchy flavors of boysenberry, cherry, and mulberry are wrapped in a gauzy haze of tannins that coat the mouth. Excellent acidity and a deep stony quality make this a refreshing wine to drink. A blend of Garnaxta (Grenache) and Sumoll. 12.5% alcohol. Certified organic. Score: between 8.5 and 9. Cost: $26. click to buy.',\n",
              " '2018 Van Ardi “Reserve” Areni Noir, Aragatsotn, ArmeniaLight to medium ruby in the glass with garnet highlights, this wine smells of strawberry and dried flowers. In the mouth, juicy strawberry and cherry flavors mix with dried herbs and dried flowers as a citrus-peel brightness emerges in the finish. Excellent acidity and very nice balance, with lightly grippy tannins that linger. Aged 14 months in Armenian and French oak. 14% alcohol. Packaged in an unnecessarily heavy bottle weighing 1.58 kg when full. Score: between 8.5 and 9. Cost: $30. click to buy.',\n",
              " '2020 Biondi-Santi “Tenuta Greppo” Sangiovese, Rosso di Montalcino, Tuscany, ItalyLight to medium ruby in the glass, this wine smells of orange peel, leather, and dried berries. In the mouth, wonderfully juicy flavors of dried herbs, cherries, and redcurrant are wrapped in a fleecy blanket of tannins. Excellent acidity and brightness, as dried flowers and herbs linger in the finish. 13.5% alcohol. Score: around 9. Cost: $100. click to buy.',\n",
              " '2019 Mathis Wines Grenache, Sonoma Valley, CaliforniaMedium garnet in the glass, this wine smells of strawberry jam and mulling spices. In the mouth, flavors of strawberry jam and dried herbs are wrapped in fleecy tannins. There’s a lovely aromatic sweetness here, and enough acidity to keep things fresh, but this is definitely richer, higher octane Grenache, with hints of raisins in the finish. 14.8% alcohol. Packaged in an unnecessarily heavy bottle weighing 1.56 kg when full. Score: around 8.5. Cost: $28. click to buy.',\n",
              " '2019 Mathis Wines “Überblend” Red Blend, Sonoma Valley, CaliforniaVery dark garnet in color, this wine smells of chocolate-covered strawberries. In the mouth, rich strawberry and black cherry flavors mix with a touch of mulling spice and dried herbs. Lightly grippy tannins grab the edge of the palate, but good acidity keeps things dynamic. Notes of oak linger in the finish. \\xa0The wine is a blend of 44% Petite Sirah, 33% Grenache, 13% Carignane and 10% Alicante Bouschet. 14.9% alcohol. Packaged in an unnecessarily heavy bottle weighing 1.54 kg when full. Score: around 8.5. Cost: $30.',\n",
              " 'Tags:scores, tasting notes, wine criticism',\n",
              " 'Hello and welcome to my weekly dig through the pile of wine samples that show up asking to be tasted.',\n",
              " 'Hello and welcome to my weekly dig through the pile of wine samples that show up asking to be tasted.',\n",
              " '\\xa0The Essence of Wine. A visually stunning wine book like no other. 2015 Roederer Award Winner.\\xa0Learn more',\n",
              " 'Use Vinography’s free aroma card to help you learn how to better identify the flavors and aromas in wine. In seven languages! Learn more. ',\n",
              " '',\n",
              " '',\n",
              " 'Would you like to receive weekly updates of new postings to vinography.com? Enter your e-mail below. Only one e-mail per week, and we’ll never sell your details to anyone.',\n",
              " '',\n",
              " '',\n",
              " 'No thanks',\n",
              " '',\n",
              " 'We use cookies on this site to give you the best experience. This includes features such as remembering your desired language preference, not bugging you with repeated suggestions to sign up for our e-mail summaries, etc. If you continue to use the site we assume you accept these cookies and the way we are using them. Read our privacy policy.',\n",
              " 'This website uses cookies so that we can provide you with the best user experience possible. Cookie information is stored in your browser and performs functions such as recognising you when you return to our website and helping our team to understand which sections of the website you find most interesting and useful.',\n",
              " 'Strictly Necessary Cookie should be enabled at all times so that we can save your preferences for cookie settings.',\n",
              " 'If you disable this cookie, we will not be able to save your preferences. This means that every time you visit this website you will need to enable or disable cookies again.']"
            ]
          },
          "metadata": {},
          "execution_count": 14
        }
      ],
      "source": [
        "\n",
        "articles_data = []\n",
        "\n",
        "article=[]\n",
        "\n",
        "for link in article_links:\n",
        "    article_url = link['href']\n",
        "    article_response = requests.get(article_url)\n",
        "    article_soup = BeautifulSoup(article_response.text, 'html.parser')\n",
        "    article_content = article_soup.find_all('p')\n",
        "    for para in article_content:\n",
        "        article.append(para.get_text())\n",
        "    articles_data.append(article.copy())\n",
        "    article=[]\n",
        "\n",
        "articles_data[0]"
      ]
    },
    {
      "cell_type": "markdown",
      "metadata": {
        "id": "CvXjIjxVleoH"
      },
      "source": [
        "Cleaning up Article Data: removing unwanted paragraphs, extra whitespaces and combining paragraphs for an article into a single string"
      ]
    },
    {
      "cell_type": "code",
      "source": [
        "# Define keywords that indicate unwanted paragraphs\n",
        "unwanted_keywords = [\"a wine blog\", \"welcome to my weekly dig\", \"cookie\", \"privacy\", \"advertisement\", \"tags\", \"essence of wine\", \"free aroma card\", \"weekly update\", \"no thanks\", \"click to buy\", \"click here to sign up\"]\n",
        "\n",
        "# Clean up the articles_data list\n",
        "cleaned_articles_data = []\n",
        "\n",
        "for article in articles_data:\n",
        "    # Filter out unwanted paragraphs and remove extra whitespace\n",
        "    cleaned_article = [para.strip() for para in article if not any(keyword in para.lower() for keyword in unwanted_keywords)]\n",
        "\n",
        "    # Remove empty paragraphs\n",
        "    cleaned_article = [para for para in cleaned_article if para]\n",
        "\n",
        "    # Join the cleaned paragraphs into a single text\n",
        "    cleaned_article_text = ' '.join(cleaned_article)\n",
        "\n",
        "    #decoding text using unidecode library\n",
        "    #!pip install unidecode\n",
        "\n",
        "    from unidecode import unidecode\n",
        "    cleaned_articles_data.append(unidecode(cleaned_article_text))\n",
        "\n",
        "cleaned_articles_data[4]"
      ],
      "metadata": {
        "colab": {
          "base_uri": "https://localhost:8080/",
          "height": 417
        },
        "id": "MsuNiw6nWJCC",
        "outputId": "5b8801b8-2d0f-4c76-9fa7-7da51934ea3c"
      },
      "execution_count": 17,
      "outputs": [
        {
          "output_type": "execute_result",
          "data": {
            "text/plain": [
              "\"If there is one part of Santa Barbara County that most embodies everything that makes the region special, it's the Sta Rita Hills American Viticultural Area (always appearing as Sta Rita Hills on wine labels thanks to a compromise made with Chilean producer Santa Rita). It fully deserves its own tasting article both because its wines alone made up nearly half of those I tasted in my recent survey of Santa Barbara County wines, but also because the region itself stands apart both literally and figuratively from the other AVAs in Santa Barbara County. Far out on the western edge of the Santa Ynez Valley, the Sta Rita Hills AVA is actually comprised of two separate valleys sandwiched between three sets of hills, like two slices of luncheon meat alternating with three slices of bread. These two valleys, oriented directly west-to-east thanks to the region's unique tectonic past, funnel extremely cold marine air in the form of wind and fog towards warmer inland valleys to the east, creating positively frigid conditions at the western extremity of the AVA, and downright chilly climes throughout. 'What makes us really unique though, and this is the real takeaway, is the extremely long growing season here', says Chad Melville, of Melville Winery. 'We have budbreak at the end of February and we're still harvesting Syrah deep into November. So it's a really long growth season. The reason why that works is because it's sunny and cold. That's the thing to remember about the Santa Rita Hills: it's cold sunshine.' In addition to its unusually cool climate, the region boasts two important soil characteristics that contribute to the unique character of its wines. Throughout the AVA, it is possible to find large swathes of relatively loose, deep sandy soils that in some places turn to pure sand. These drifts are scattered throughout the AVA, but are most prominently found in the area occupied by Melville Winery in the heart of the AVA. More visible than the sand, however, and much more unusual, are the large outcrops of brilliant white compacted soil that most wine lovers, myself included, will immediately assume are calcareous. Despite looking identical to the chalk that you might find peeking out from beneath thin layers of topsoil in Champagne, there's not a bit of calcium to be found in this white substance known as diatomaceous earth. Continue reading this article on JancisRobinson.Com Santa Barbara was launched into the consciousness of most mainstream wine drinkers 19 years ago with the release of the With global rose sales on a steady rise (to the point that they seemingly threaten to overtake red-wine consumption in\""
            ],
            "application/vnd.google.colaboratory.intrinsic+json": {
              "type": "string"
            }
          },
          "metadata": {},
          "execution_count": 17
        }
      ]
    },
    {
      "cell_type": "markdown",
      "metadata": {
        "id": "Bg9RPs-jatrM"
      },
      "source": [
        "Writing the Cleaned Articles Data List into a CSV File"
      ]
    },
    {
      "cell_type": "code",
      "execution_count": 19,
      "metadata": {
        "colab": {
          "base_uri": "https://localhost:8080/"
        },
        "id": "OHKLHHZhNjZI",
        "outputId": "e73bf729-fc75-4160-94ee-0f1960691d22"
      },
      "outputs": [
        {
          "output_type": "stream",
          "name": "stdout",
          "text": [
            "CSV file 'wine_articles.csv' has been created with the cleaned article data.\n"
          ]
        }
      ],
      "source": [
        "import csv\n",
        "\n",
        "\n",
        "# Define the CSV file name\n",
        "csv_file_name = \"wine_articles.csv\"\n",
        "\n",
        "# Open the CSV file in write mode\n",
        "with open(csv_file_name, mode='w', newline='', encoding='utf-8') as csv_file:\n",
        "    writer = csv.writer(csv_file, delimiter=',', quotechar='\"', quoting=csv.QUOTE_MINIMAL)\n",
        "\n",
        "    # Write a header row if needed\n",
        "    # writer.writerow(['Title', 'Content'])\n",
        "\n",
        "    # Iterate through your cleaned article data and write each row to the CSV file\n",
        "    for article_text in cleaned_articles_data:\n",
        "        writer.writerow([article_text])\n",
        "\n",
        "print(f\"CSV file '{csv_file_name}' has been created with the cleaned article data.\")\n"
      ]
    },
    {
      "cell_type": "markdown",
      "metadata": {
        "id": "ne8lpHzAmGeu"
      },
      "source": [
        "#Using Trained TensorFlow Model to carry out text classification/sentiment analysis of real world wine articles we just scraped from vinography.com\n"
      ]
    },
    {
      "cell_type": "code",
      "execution_count": 20,
      "metadata": {
        "colab": {
          "base_uri": "https://localhost:8080/",
          "height": 1000
        },
        "id": "UNPd4TGbn__R",
        "outputId": "7f8ebc86-a464-4bc3-e977-5858d1ff8188"
      },
      "outputs": [
        {
          "output_type": "execute_result",
          "data": {
            "text/plain": [
              "   This past week included a bright and stony Sauvignon Blanc from Trois Noix wines in Napa, which is admirable for its slightly more austere approach to the grape which reminds me of the more typical European interpretation of the variety. I'm always excited to receive the wines from Can Sumoi, a natural wine project by Raventos i Blanc, based on the revitalization of an old farm in the Penedes region of Spain and its indigenous grape varieties. These wines are made with minimal sulfur additions, organically farmed grapes, and yet they're wonderfully clean and pure. They also come in cute, squat bottles that are probably a nightmare to put into a rack, but look pretty neat. I've got another Armenian wine to share with you this week, from producer Van Ardi, begun by a public accountant from Los Angeles who decided to return to his homeland and make wine. It's a lovely interpretation of the native Areni Noir grape with a little age on it. I also got the latest release from legendary Montalcino producer Biondi-Santi this week. Their 2020 Rosso di Montalcino is elegant and refined, and while it may not have the profundity of Brunello, it's still delicious and will likely age beautifully. It's also a darn sight cheaper than the pricey and hard-to-find Brunello. Lastly, I've got a couple of rich reds from Peter Mathis at Mathis Wine, who focuses on making wines from Sonoma Valley. For those looking for robust and powerful red wines, you'll enjoy both his Grenache and his unusual blend of Petite Sirah, Grenache and other grapes. Notes on all these below. 2022 Can Sumoi Garnaxta Blanca, SpainPale blonde in color, this wine smells of ripe golden apples and white flowers. In the mouth, slightly melon-like flavors mix with white flowers and golden apples as hints of citrus pith emerge in the finish. Bright and juicy thanks to very good acidity. 12.5% alcohol. Certified organic. Score: between 8.5 and 9. Cost: $?? 2019 Mathis Wines \"Uberblend\" Red Blend, Sonoma Valley, CaliforniaVery dark garnet in color, this wine smells of chocolate-covered strawberries. In the mouth, rich strawberry and black cherry flavors mix with a touch of mulling spice and dried herbs. Lightly grippy tannins grab the edge of the palate, but good acidity keeps things dynamic. Notes of oak linger in the finish.  The wine is a blend of 44% Petite Sirah, 33% Grenache, 13% Carignane and 10% Alicante Bouschet. 14.9% alcohol. Packaged in an unnecessarily heavy bottle weighing 1.54 kg when full. Score: around 8.5. Cost: $30.\n",
              "0   How exclusive is Ultramarine, the single-viney...                                                                                                                                                                                                                                                                                                                                                                                                                                                                                                                                                                                                                                                                                                                                                                                                                                                                                                                                                                                                                                                                                                                                                                                                                                                                                                                                                                                                                                                                                                                                                                                                                                                                                                                                                                                                                                                                                                                                                                                                                                                                                                                                                                                                                                                                                                                                                                                                                                                                                                                                                                        \n",
              "1   This week featured a number of spectacular win...                                                                                                                                                                                                                                                                                                                                                                                                                                                                                                                                                                                                                                                                                                                                                                                                                                                                                                                                                                                                                                                                                                                                                                                                                                                                                                                                                                                                                                                                                                                                                                                                                                                                                                                                                                                                                                                                                                                                                                                                                                                                                                                                                                                                                                                                                                                                                                                                                                                                                                                                                                        \n",
              "2   This week features a number of interesting Cal...                                                                                                                                                                                                                                                                                                                                                                                                                                                                                                                                                                                                                                                                                                                                                                                                                                                                                                                                                                                                                                                                                                                                                                                                                                                                                                                                                                                                                                                                                                                                                                                                                                                                                                                                                                                                                                                                                                                                                                                                                                                                                                                                                                                                                                                                                                                                                                                                                                                                                                                                                                        \n",
              "3   If there is one part of Santa Barbara County t...                                                                                                                                                                                                                                                                                                                                                                                                                                                                                                                                                                                                                                                                                                                                                                                                                                                                                                                                                                                                                                                                                                                                                                                                                                                                                                                                                                                                                                                                                                                                                                                                                                                                                                                                                                                                                                                                                                                                                                                                                                                                                                                                                                                                                                                                                                                                                                                                                                                                                                                                                                        \n",
              "4   Santa Barbara was launched into the consciousn...                                                                                                                                                                                                                                                                                                                                                                                                                                                                                                                                                                                                                                                                                                                                                                                                                                                                                                                                                                                                                                                                                                                                                                                                                                                                                                                                                                                                                                                                                                                                                                                                                                                                                                                                                                                                                                                                                                                                                                                                                                                                                                                                                                                                                                                                                                                                                                                                                                                                                                                                                                        \n",
              "5   This week we've got a bunch of Chenin Blanc to...                                                                                                                                                                                                                                                                                                                                                                                                                                                                                                                                                                                                                                                                                                                                                                                                                                                                                                                                                                                                                                                                                                                                                                                                                                                                                                                                                                                                                                                                                                                                                                                                                                                                                                                                                                                                                                                                                                                                                                                                                                                                                                                                                                                                                                                                                                                                                                                                                                                                                                                                                                        \n",
              "6   This week included a lot of refreshing wines o...                                                                                                                                                                                                                                                                                                                                                                                                                                                                                                                                                                                                                                                                                                                                                                                                                                                                                                                                                                                                                                                                                                                                                                                                                                                                                                                                                                                                                                                                                                                                                                                                                                                                                                                                                                                                                                                                                                                                                                                                                                                                                                                                                                                                                                                                                                                                                                                                                                                                                                                                                                        \n",
              "7   For many people in the world of wine, Nicolas ...                                                                                                                                                                                                                                                                                                                                                                                                                                                                                                                                                                                                                                                                                                                                                                                                                                                                                                                                                                                                                                                                                                                                                                                                                                                                                                                                                                                                                                                                                                                                                                                                                                                                                                                                                                                                                                                                                                                                                                                                                                                                                                                                                                                                                                                                                                                                                                                                                                                                                                                                                                        \n",
              "8   For those of you who are (apparently like the ...                                                                                                                                                                                                                                                                                                                                                                                                                                                                                                                                                                                                                                                                                                                                                                                                                                                                                                                                                                                                                                                                                                                                                                                                                                                                                                                                                                                                                                                                                                                                                                                                                                                                                                                                                                                                                                                                                                                                                                                                                                                                                                                                                                                                                                                                                                                                                                                                                                                                                                                                                                        \n",
              "9   This week included a whole bunch of pink wines...                                                                                                                                                                                                                                                                                                                                                                                                                                                                                                                                                                                                                                                                                                                                                                                                                                                                                                                                                                                                                                                                                                                                                                                                                                                                                                                                                                                                                                                                                                                                                                                                                                                                                                                                                                                                                                                                                                                                                                                                                                                                                                                                                                                                                                                                                                                                                                                                                                                                                                                                                                        \n",
              "10  With global rose sales on a steady rise (to th...                                                                                                                                                                                                                                                                                                                                                                                                                                                                                                                                                                                                                                                                                                                                                                                                                                                                                                                                                                                                                                                                                                                                                                                                                                                                                                                                                                                                                                                                                                                                                                                                                                                                                                                                                                                                                                                                                                                                                                                                                                                                                                                                                                                                                                                                                                                                                                                                                                                                                                                                                                        \n",
              "11  This week included some wines that you don't s...                                                                                                                                                                                                                                                                                                                                                                                                                                                                                                                                                                                                                                                                                                                                                                                                                                                                                                                                                                                                                                                                                                                                                                                                                                                                                                                                                                                                                                                                                                                                                                                                                                                                                                                                                                                                                                                                                                                                                                                                                                                                                                                                                                                                                                                                                                                                                                                                                                                                                                                                                                        \n",
              "12  This week included a bunch of really fun wines...                                                                                                                                                                                                                                                                                                                                                                                                                                                                                                                                                                                                                                                                                                                                                                                                                                                                                                                                                                                                                                                                                                                                                                                                                                                                                                                                                                                                                                                                                                                                                                                                                                                                                                                                                                                                                                                                                                                                                                                                                                                                                                                                                                                                                                                                                                                                                                                                                                                                                                                                                                        \n",
              "13  This week included a couple of wines from Desp...                                                                                                                                                                                                                                                                                                                                                                                                                                                                                                                                                                                                                                                                                                                                                                                                                                                                                                                                                                                                                                                                                                                                                                                                                                                                                                                                                                                                                                                                                                                                                                                                                                                                                                                                                                                                                                                                                                                                                                                                                                                                                                                                                                                                                                                                                                                                                                                                                                                                                                                                                                        \n",
              "14  On the narrow \"boot\" of Italy, at least the pa...                                                                                                                                                                                                                                                                                                                                                                                                                                                                                                                                                                                                                                                                                                                                                                                                                                                                                                                                                                                                                                                                                                                                                                                                                                                                                                                                                                                                                                                                                                                                                                                                                                                                                                                                                                                                                                                                                                                                                                                                                                                                                                                                                                                                                                                                                                                                                                                                                                                                                                                                                                        \n",
              "15  This week included an interesting mix of wines...                                                                                                                                                                                                                                                                                                                                                                                                                                                                                                                                                                                                                                                                                                                                                                                                                                                                                                                                                                                                                                                                                                                                                                                                                                                                                                                                                                                                                                                                                                                                                                                                                                                                                                                                                                                                                                                                                                                                                                                                                                                                                                                                                                                                                                                                                                                                                                                                                                                                                                                                                                        \n",
              "16  This week included mostly sparkling and white ...                                                                                                                                                                                                                                                                                                                                                                                                                                                                                                                                                                                                                                                                                                                                                                                                                                                                                                                                                                                                                                                                                                                                                                                                                                                                                                                                                                                                                                                                                                                                                                                                                                                                                                                                                                                                                                                                                                                                                                                                                                                                                                                                                                                                                                                                                                                                                                                                                                                                                                                                                                        \n",
              "17  This past week included a few tasty wines from...                                                                                                                                                                                                                                                                                                                                                                                                                                                                                                                                                                                                                                                                                                                                                                                                                                                                                                                                                                                                                                                                                                                                                                                                                                                                                                                                                                                                                                                                                                                                                                                                                                                                                                                                                                                                                                                                                                                                                                                                                                                                                                                                                                                                                                                                                                                                                                                                                                                                                                                                                                        "
            ],
            "text/html": [
              "\n",
              "  <div id=\"df-e5b85065-64ca-4476-a654-b988adace7b1\" class=\"colab-df-container\">\n",
              "    <div>\n",
              "<style scoped>\n",
              "    .dataframe tbody tr th:only-of-type {\n",
              "        vertical-align: middle;\n",
              "    }\n",
              "\n",
              "    .dataframe tbody tr th {\n",
              "        vertical-align: top;\n",
              "    }\n",
              "\n",
              "    .dataframe thead th {\n",
              "        text-align: right;\n",
              "    }\n",
              "</style>\n",
              "<table border=\"1\" class=\"dataframe\">\n",
              "  <thead>\n",
              "    <tr style=\"text-align: right;\">\n",
              "      <th></th>\n",
              "      <th>This past week included a bright and stony Sauvignon Blanc from Trois Noix wines in Napa, which is admirable for its slightly more austere approach to the grape which reminds me of the more typical European interpretation of the variety. I'm always excited to receive the wines from Can Sumoi, a natural wine project by Raventos i Blanc, based on the revitalization of an old farm in the Penedes region of Spain and its indigenous grape varieties. These wines are made with minimal sulfur additions, organically farmed grapes, and yet they're wonderfully clean and pure. They also come in cute, squat bottles that are probably a nightmare to put into a rack, but look pretty neat. I've got another Armenian wine to share with you this week, from producer Van Ardi, begun by a public accountant from Los Angeles who decided to return to his homeland and make wine. It's a lovely interpretation of the native Areni Noir grape with a little age on it. I also got the latest release from legendary Montalcino producer Biondi-Santi this week. Their 2020 Rosso di Montalcino is elegant and refined, and while it may not have the profundity of Brunello, it's still delicious and will likely age beautifully. It's also a darn sight cheaper than the pricey and hard-to-find Brunello. Lastly, I've got a couple of rich reds from Peter Mathis at Mathis Wine, who focuses on making wines from Sonoma Valley. For those looking for robust and powerful red wines, you'll enjoy both his Grenache and his unusual blend of Petite Sirah, Grenache and other grapes. Notes on all these below. 2022 Can Sumoi Garnaxta Blanca, SpainPale blonde in color, this wine smells of ripe golden apples and white flowers. In the mouth, slightly melon-like flavors mix with white flowers and golden apples as hints of citrus pith emerge in the finish. Bright and juicy thanks to very good acidity. 12.5% alcohol. Certified organic. Score: between 8.5 and 9. Cost: $?? 2019 Mathis Wines \"Uberblend\" Red Blend, Sonoma Valley, CaliforniaVery dark garnet in color, this wine smells of chocolate-covered strawberries. In the mouth, rich strawberry and black cherry flavors mix with a touch of mulling spice and dried herbs. Lightly grippy tannins grab the edge of the palate, but good acidity keeps things dynamic. Notes of oak linger in the finish.  The wine is a blend of 44% Petite Sirah, 33% Grenache, 13% Carignane and 10% Alicante Bouschet. 14.9% alcohol. Packaged in an unnecessarily heavy bottle weighing 1.54 kg when full. Score: around 8.5. Cost: $30.</th>\n",
              "    </tr>\n",
              "  </thead>\n",
              "  <tbody>\n",
              "    <tr>\n",
              "      <th>0</th>\n",
              "      <td>How exclusive is Ultramarine, the single-viney...</td>\n",
              "    </tr>\n",
              "    <tr>\n",
              "      <th>1</th>\n",
              "      <td>This week featured a number of spectacular win...</td>\n",
              "    </tr>\n",
              "    <tr>\n",
              "      <th>2</th>\n",
              "      <td>This week features a number of interesting Cal...</td>\n",
              "    </tr>\n",
              "    <tr>\n",
              "      <th>3</th>\n",
              "      <td>If there is one part of Santa Barbara County t...</td>\n",
              "    </tr>\n",
              "    <tr>\n",
              "      <th>4</th>\n",
              "      <td>Santa Barbara was launched into the consciousn...</td>\n",
              "    </tr>\n",
              "    <tr>\n",
              "      <th>5</th>\n",
              "      <td>This week we've got a bunch of Chenin Blanc to...</td>\n",
              "    </tr>\n",
              "    <tr>\n",
              "      <th>6</th>\n",
              "      <td>This week included a lot of refreshing wines o...</td>\n",
              "    </tr>\n",
              "    <tr>\n",
              "      <th>7</th>\n",
              "      <td>For many people in the world of wine, Nicolas ...</td>\n",
              "    </tr>\n",
              "    <tr>\n",
              "      <th>8</th>\n",
              "      <td>For those of you who are (apparently like the ...</td>\n",
              "    </tr>\n",
              "    <tr>\n",
              "      <th>9</th>\n",
              "      <td>This week included a whole bunch of pink wines...</td>\n",
              "    </tr>\n",
              "    <tr>\n",
              "      <th>10</th>\n",
              "      <td>With global rose sales on a steady rise (to th...</td>\n",
              "    </tr>\n",
              "    <tr>\n",
              "      <th>11</th>\n",
              "      <td>This week included some wines that you don't s...</td>\n",
              "    </tr>\n",
              "    <tr>\n",
              "      <th>12</th>\n",
              "      <td>This week included a bunch of really fun wines...</td>\n",
              "    </tr>\n",
              "    <tr>\n",
              "      <th>13</th>\n",
              "      <td>This week included a couple of wines from Desp...</td>\n",
              "    </tr>\n",
              "    <tr>\n",
              "      <th>14</th>\n",
              "      <td>On the narrow \"boot\" of Italy, at least the pa...</td>\n",
              "    </tr>\n",
              "    <tr>\n",
              "      <th>15</th>\n",
              "      <td>This week included an interesting mix of wines...</td>\n",
              "    </tr>\n",
              "    <tr>\n",
              "      <th>16</th>\n",
              "      <td>This week included mostly sparkling and white ...</td>\n",
              "    </tr>\n",
              "    <tr>\n",
              "      <th>17</th>\n",
              "      <td>This past week included a few tasty wines from...</td>\n",
              "    </tr>\n",
              "  </tbody>\n",
              "</table>\n",
              "</div>\n",
              "    <div class=\"colab-df-buttons\">\n",
              "\n",
              "  <div class=\"colab-df-container\">\n",
              "    <button class=\"colab-df-convert\" onclick=\"convertToInteractive('df-e5b85065-64ca-4476-a654-b988adace7b1')\"\n",
              "            title=\"Convert this dataframe to an interactive table.\"\n",
              "            style=\"display:none;\">\n",
              "\n",
              "  <svg xmlns=\"http://www.w3.org/2000/svg\" height=\"24px\" viewBox=\"0 -960 960 960\">\n",
              "    <path d=\"M120-120v-720h720v720H120Zm60-500h600v-160H180v160Zm220 220h160v-160H400v160Zm0 220h160v-160H400v160ZM180-400h160v-160H180v160Zm440 0h160v-160H620v160ZM180-180h160v-160H180v160Zm440 0h160v-160H620v160Z\"/>\n",
              "  </svg>\n",
              "    </button>\n",
              "\n",
              "  <style>\n",
              "    .colab-df-container {\n",
              "      display:flex;\n",
              "      gap: 12px;\n",
              "    }\n",
              "\n",
              "    .colab-df-convert {\n",
              "      background-color: #E8F0FE;\n",
              "      border: none;\n",
              "      border-radius: 50%;\n",
              "      cursor: pointer;\n",
              "      display: none;\n",
              "      fill: #1967D2;\n",
              "      height: 32px;\n",
              "      padding: 0 0 0 0;\n",
              "      width: 32px;\n",
              "    }\n",
              "\n",
              "    .colab-df-convert:hover {\n",
              "      background-color: #E2EBFA;\n",
              "      box-shadow: 0px 1px 2px rgba(60, 64, 67, 0.3), 0px 1px 3px 1px rgba(60, 64, 67, 0.15);\n",
              "      fill: #174EA6;\n",
              "    }\n",
              "\n",
              "    .colab-df-buttons div {\n",
              "      margin-bottom: 4px;\n",
              "    }\n",
              "\n",
              "    [theme=dark] .colab-df-convert {\n",
              "      background-color: #3B4455;\n",
              "      fill: #D2E3FC;\n",
              "    }\n",
              "\n",
              "    [theme=dark] .colab-df-convert:hover {\n",
              "      background-color: #434B5C;\n",
              "      box-shadow: 0px 1px 3px 1px rgba(0, 0, 0, 0.15);\n",
              "      filter: drop-shadow(0px 1px 2px rgba(0, 0, 0, 0.3));\n",
              "      fill: #FFFFFF;\n",
              "    }\n",
              "  </style>\n",
              "\n",
              "    <script>\n",
              "      const buttonEl =\n",
              "        document.querySelector('#df-e5b85065-64ca-4476-a654-b988adace7b1 button.colab-df-convert');\n",
              "      buttonEl.style.display =\n",
              "        google.colab.kernel.accessAllowed ? 'block' : 'none';\n",
              "\n",
              "      async function convertToInteractive(key) {\n",
              "        const element = document.querySelector('#df-e5b85065-64ca-4476-a654-b988adace7b1');\n",
              "        const dataTable =\n",
              "          await google.colab.kernel.invokeFunction('convertToInteractive',\n",
              "                                                    [key], {});\n",
              "        if (!dataTable) return;\n",
              "\n",
              "        const docLinkHtml = 'Like what you see? Visit the ' +\n",
              "          '<a target=\"_blank\" href=https://colab.research.google.com/notebooks/data_table.ipynb>data table notebook</a>'\n",
              "          + ' to learn more about interactive tables.';\n",
              "        element.innerHTML = '';\n",
              "        dataTable['output_type'] = 'display_data';\n",
              "        await google.colab.output.renderOutput(dataTable, element);\n",
              "        const docLink = document.createElement('div');\n",
              "        docLink.innerHTML = docLinkHtml;\n",
              "        element.appendChild(docLink);\n",
              "      }\n",
              "    </script>\n",
              "  </div>\n",
              "\n",
              "\n",
              "<div id=\"df-2fb81e41-faac-4b39-8a73-1c70a051387e\">\n",
              "  <button class=\"colab-df-quickchart\" onclick=\"quickchart('df-2fb81e41-faac-4b39-8a73-1c70a051387e')\"\n",
              "            title=\"Suggest charts.\"\n",
              "            style=\"display:none;\">\n",
              "\n",
              "<svg xmlns=\"http://www.w3.org/2000/svg\" height=\"24px\"viewBox=\"0 0 24 24\"\n",
              "     width=\"24px\">\n",
              "    <g>\n",
              "        <path d=\"M19 3H5c-1.1 0-2 .9-2 2v14c0 1.1.9 2 2 2h14c1.1 0 2-.9 2-2V5c0-1.1-.9-2-2-2zM9 17H7v-7h2v7zm4 0h-2V7h2v10zm4 0h-2v-4h2v4z\"/>\n",
              "    </g>\n",
              "</svg>\n",
              "  </button>\n",
              "\n",
              "<style>\n",
              "  .colab-df-quickchart {\n",
              "      --bg-color: #E8F0FE;\n",
              "      --fill-color: #1967D2;\n",
              "      --hover-bg-color: #E2EBFA;\n",
              "      --hover-fill-color: #174EA6;\n",
              "      --disabled-fill-color: #AAA;\n",
              "      --disabled-bg-color: #DDD;\n",
              "  }\n",
              "\n",
              "  [theme=dark] .colab-df-quickchart {\n",
              "      --bg-color: #3B4455;\n",
              "      --fill-color: #D2E3FC;\n",
              "      --hover-bg-color: #434B5C;\n",
              "      --hover-fill-color: #FFFFFF;\n",
              "      --disabled-bg-color: #3B4455;\n",
              "      --disabled-fill-color: #666;\n",
              "  }\n",
              "\n",
              "  .colab-df-quickchart {\n",
              "    background-color: var(--bg-color);\n",
              "    border: none;\n",
              "    border-radius: 50%;\n",
              "    cursor: pointer;\n",
              "    display: none;\n",
              "    fill: var(--fill-color);\n",
              "    height: 32px;\n",
              "    padding: 0;\n",
              "    width: 32px;\n",
              "  }\n",
              "\n",
              "  .colab-df-quickchart:hover {\n",
              "    background-color: var(--hover-bg-color);\n",
              "    box-shadow: 0 1px 2px rgba(60, 64, 67, 0.3), 0 1px 3px 1px rgba(60, 64, 67, 0.15);\n",
              "    fill: var(--button-hover-fill-color);\n",
              "  }\n",
              "\n",
              "  .colab-df-quickchart-complete:disabled,\n",
              "  .colab-df-quickchart-complete:disabled:hover {\n",
              "    background-color: var(--disabled-bg-color);\n",
              "    fill: var(--disabled-fill-color);\n",
              "    box-shadow: none;\n",
              "  }\n",
              "\n",
              "  .colab-df-spinner {\n",
              "    border: 2px solid var(--fill-color);\n",
              "    border-color: transparent;\n",
              "    border-bottom-color: var(--fill-color);\n",
              "    animation:\n",
              "      spin 1s steps(1) infinite;\n",
              "  }\n",
              "\n",
              "  @keyframes spin {\n",
              "    0% {\n",
              "      border-color: transparent;\n",
              "      border-bottom-color: var(--fill-color);\n",
              "      border-left-color: var(--fill-color);\n",
              "    }\n",
              "    20% {\n",
              "      border-color: transparent;\n",
              "      border-left-color: var(--fill-color);\n",
              "      border-top-color: var(--fill-color);\n",
              "    }\n",
              "    30% {\n",
              "      border-color: transparent;\n",
              "      border-left-color: var(--fill-color);\n",
              "      border-top-color: var(--fill-color);\n",
              "      border-right-color: var(--fill-color);\n",
              "    }\n",
              "    40% {\n",
              "      border-color: transparent;\n",
              "      border-right-color: var(--fill-color);\n",
              "      border-top-color: var(--fill-color);\n",
              "    }\n",
              "    60% {\n",
              "      border-color: transparent;\n",
              "      border-right-color: var(--fill-color);\n",
              "    }\n",
              "    80% {\n",
              "      border-color: transparent;\n",
              "      border-right-color: var(--fill-color);\n",
              "      border-bottom-color: var(--fill-color);\n",
              "    }\n",
              "    90% {\n",
              "      border-color: transparent;\n",
              "      border-bottom-color: var(--fill-color);\n",
              "    }\n",
              "  }\n",
              "</style>\n",
              "\n",
              "  <script>\n",
              "    async function quickchart(key) {\n",
              "      const quickchartButtonEl =\n",
              "        document.querySelector('#' + key + ' button');\n",
              "      quickchartButtonEl.disabled = true;  // To prevent multiple clicks.\n",
              "      quickchartButtonEl.classList.add('colab-df-spinner');\n",
              "      try {\n",
              "        const charts = await google.colab.kernel.invokeFunction(\n",
              "            'suggestCharts', [key], {});\n",
              "      } catch (error) {\n",
              "        console.error('Error during call to suggestCharts:', error);\n",
              "      }\n",
              "      quickchartButtonEl.classList.remove('colab-df-spinner');\n",
              "      quickchartButtonEl.classList.add('colab-df-quickchart-complete');\n",
              "    }\n",
              "    (() => {\n",
              "      let quickchartButtonEl =\n",
              "        document.querySelector('#df-2fb81e41-faac-4b39-8a73-1c70a051387e button');\n",
              "      quickchartButtonEl.style.display =\n",
              "        google.colab.kernel.accessAllowed ? 'block' : 'none';\n",
              "    })();\n",
              "  </script>\n",
              "</div>\n",
              "    </div>\n",
              "  </div>\n"
            ]
          },
          "metadata": {},
          "execution_count": 20
        }
      ],
      "source": [
        "import numpy as np\n",
        "import pandas as pd\n",
        "\n",
        "df = pd.read_csv(\"wine_articles.csv\")\n",
        "df"
      ]
    },
    {
      "cell_type": "markdown",
      "metadata": {
        "id": "WaHQeu00dIve"
      },
      "source": [
        "Converting pandas dataframe to TensorFlow Dataset Object. This is necessary to prepare data in format that can be used efficiently by TensorFlow, especially when working with textual data in the case of NLP"
      ]
    },
    {
      "cell_type": "code",
      "execution_count": 21,
      "metadata": {
        "id": "BiytWcxno0Zx"
      },
      "outputs": [],
      "source": [
        "import tensorflow as tf\n",
        "\n",
        "# function that takes a pandas dataframe as input and returns a TensorFlow dataset object.\n",
        "def df_to_dataset(dataframe, shuffle=True, batch_size=1024):\n",
        "  df = dataframe.copy()  # Create a copy of the input DataFrame to avoid modifying it directly\n",
        "  ds = tf.data.Dataset.from_tensor_slices(df)  # Create a TensorFlow Dataset from the description data in dataframe\n",
        "  if shuffle:\n",
        "    ds = ds.shuffle(buffer_size=len(dataframe))  # Shuffle the dataset if shuffle is True\n",
        "  ds = ds.batch(batch_size)  # Create batches of the dataset with the specified batch size\n",
        "  ds = ds.prefetch(tf.data.AUTOTUNE)  # Prefetch data for better performance\n",
        "  return ds  # Return the processed TensorFlow Dataset"
      ]
    },
    {
      "cell_type": "code",
      "execution_count": 22,
      "metadata": {
        "colab": {
          "base_uri": "https://localhost:8080/"
        },
        "id": "vfLbY3wso7uX",
        "outputId": "b0479090-3ac4-4437-d4f1-af8426e3f291"
      },
      "outputs": [
        {
          "output_type": "execute_result",
          "data": {
            "text/plain": [
              "<_PrefetchDataset element_spec=TensorSpec(shape=(None, 1), dtype=tf.string, name=None)>"
            ]
          },
          "metadata": {},
          "execution_count": 22
        }
      ],
      "source": [
        "tf_dataset = df_to_dataset(df)\n",
        "tf_dataset"
      ]
    },
    {
      "cell_type": "markdown",
      "source": [
        "Using trained LSTM RNN model to predict labels for unlabeled wine articles"
      ],
      "metadata": {
        "id": "Dm3FlElerBwD"
      }
    },
    {
      "cell_type": "code",
      "execution_count": 23,
      "metadata": {
        "id": "AgZ6btmGeDnG",
        "colab": {
          "base_uri": "https://localhost:8080/"
        },
        "outputId": "b0a42388-2488-423e-f7b2-1ab37f6c91b5"
      },
      "outputs": [
        {
          "output_type": "stream",
          "name": "stdout",
          "text": [
            "1/1 [==============================] - 8s 8s/step\n"
          ]
        },
        {
          "output_type": "execute_result",
          "data": {
            "text/plain": [
              "array([[0.9716648 ],\n",
              "       [0.9344603 ],\n",
              "       [0.8477233 ],\n",
              "       [0.90374637],\n",
              "       [0.94272774],\n",
              "       [0.81069064],\n",
              "       [0.91141826],\n",
              "       [0.9034606 ],\n",
              "       [0.89320034],\n",
              "       [0.9388793 ],\n",
              "       [0.9828142 ],\n",
              "       [0.958201  ],\n",
              "       [0.82818395],\n",
              "       [0.9402902 ],\n",
              "       [0.9803822 ],\n",
              "       [0.5691161 ],\n",
              "       [0.9368088 ],\n",
              "       [0.75871795]], dtype=float32)"
            ]
          },
          "metadata": {},
          "execution_count": 23
        }
      ],
      "source": [
        "#Using trained LSTM RNN model to predict labels for unlabeled wine articles\n",
        "predictions = model.predict(tf_dataset)\n",
        "predictions"
      ]
    },
    {
      "cell_type": "code",
      "source": [
        "#adding column name for the articles df\n",
        "df.columns = ['Article Content']\n",
        "articles_content_df = df.copy()\n",
        "articles_content_df"
      ],
      "metadata": {
        "colab": {
          "base_uri": "https://localhost:8080/",
          "height": 613
        },
        "id": "Gplgy3i7rEzr",
        "outputId": "b2a0cd03-5077-436e-c499-8d634805ef3e"
      },
      "execution_count": 24,
      "outputs": [
        {
          "output_type": "execute_result",
          "data": {
            "text/plain": [
              "                                      Article Content\n",
              "0   How exclusive is Ultramarine, the single-viney...\n",
              "1   This week featured a number of spectacular win...\n",
              "2   This week features a number of interesting Cal...\n",
              "3   If there is one part of Santa Barbara County t...\n",
              "4   Santa Barbara was launched into the consciousn...\n",
              "5   This week we've got a bunch of Chenin Blanc to...\n",
              "6   This week included a lot of refreshing wines o...\n",
              "7   For many people in the world of wine, Nicolas ...\n",
              "8   For those of you who are (apparently like the ...\n",
              "9   This week included a whole bunch of pink wines...\n",
              "10  With global rose sales on a steady rise (to th...\n",
              "11  This week included some wines that you don't s...\n",
              "12  This week included a bunch of really fun wines...\n",
              "13  This week included a couple of wines from Desp...\n",
              "14  On the narrow \"boot\" of Italy, at least the pa...\n",
              "15  This week included an interesting mix of wines...\n",
              "16  This week included mostly sparkling and white ...\n",
              "17  This past week included a few tasty wines from..."
            ],
            "text/html": [
              "\n",
              "  <div id=\"df-af8aa9b8-9122-4b81-b079-c72d672e837f\" class=\"colab-df-container\">\n",
              "    <div>\n",
              "<style scoped>\n",
              "    .dataframe tbody tr th:only-of-type {\n",
              "        vertical-align: middle;\n",
              "    }\n",
              "\n",
              "    .dataframe tbody tr th {\n",
              "        vertical-align: top;\n",
              "    }\n",
              "\n",
              "    .dataframe thead th {\n",
              "        text-align: right;\n",
              "    }\n",
              "</style>\n",
              "<table border=\"1\" class=\"dataframe\">\n",
              "  <thead>\n",
              "    <tr style=\"text-align: right;\">\n",
              "      <th></th>\n",
              "      <th>Article Content</th>\n",
              "    </tr>\n",
              "  </thead>\n",
              "  <tbody>\n",
              "    <tr>\n",
              "      <th>0</th>\n",
              "      <td>How exclusive is Ultramarine, the single-viney...</td>\n",
              "    </tr>\n",
              "    <tr>\n",
              "      <th>1</th>\n",
              "      <td>This week featured a number of spectacular win...</td>\n",
              "    </tr>\n",
              "    <tr>\n",
              "      <th>2</th>\n",
              "      <td>This week features a number of interesting Cal...</td>\n",
              "    </tr>\n",
              "    <tr>\n",
              "      <th>3</th>\n",
              "      <td>If there is one part of Santa Barbara County t...</td>\n",
              "    </tr>\n",
              "    <tr>\n",
              "      <th>4</th>\n",
              "      <td>Santa Barbara was launched into the consciousn...</td>\n",
              "    </tr>\n",
              "    <tr>\n",
              "      <th>5</th>\n",
              "      <td>This week we've got a bunch of Chenin Blanc to...</td>\n",
              "    </tr>\n",
              "    <tr>\n",
              "      <th>6</th>\n",
              "      <td>This week included a lot of refreshing wines o...</td>\n",
              "    </tr>\n",
              "    <tr>\n",
              "      <th>7</th>\n",
              "      <td>For many people in the world of wine, Nicolas ...</td>\n",
              "    </tr>\n",
              "    <tr>\n",
              "      <th>8</th>\n",
              "      <td>For those of you who are (apparently like the ...</td>\n",
              "    </tr>\n",
              "    <tr>\n",
              "      <th>9</th>\n",
              "      <td>This week included a whole bunch of pink wines...</td>\n",
              "    </tr>\n",
              "    <tr>\n",
              "      <th>10</th>\n",
              "      <td>With global rose sales on a steady rise (to th...</td>\n",
              "    </tr>\n",
              "    <tr>\n",
              "      <th>11</th>\n",
              "      <td>This week included some wines that you don't s...</td>\n",
              "    </tr>\n",
              "    <tr>\n",
              "      <th>12</th>\n",
              "      <td>This week included a bunch of really fun wines...</td>\n",
              "    </tr>\n",
              "    <tr>\n",
              "      <th>13</th>\n",
              "      <td>This week included a couple of wines from Desp...</td>\n",
              "    </tr>\n",
              "    <tr>\n",
              "      <th>14</th>\n",
              "      <td>On the narrow \"boot\" of Italy, at least the pa...</td>\n",
              "    </tr>\n",
              "    <tr>\n",
              "      <th>15</th>\n",
              "      <td>This week included an interesting mix of wines...</td>\n",
              "    </tr>\n",
              "    <tr>\n",
              "      <th>16</th>\n",
              "      <td>This week included mostly sparkling and white ...</td>\n",
              "    </tr>\n",
              "    <tr>\n",
              "      <th>17</th>\n",
              "      <td>This past week included a few tasty wines from...</td>\n",
              "    </tr>\n",
              "  </tbody>\n",
              "</table>\n",
              "</div>\n",
              "    <div class=\"colab-df-buttons\">\n",
              "\n",
              "  <div class=\"colab-df-container\">\n",
              "    <button class=\"colab-df-convert\" onclick=\"convertToInteractive('df-af8aa9b8-9122-4b81-b079-c72d672e837f')\"\n",
              "            title=\"Convert this dataframe to an interactive table.\"\n",
              "            style=\"display:none;\">\n",
              "\n",
              "  <svg xmlns=\"http://www.w3.org/2000/svg\" height=\"24px\" viewBox=\"0 -960 960 960\">\n",
              "    <path d=\"M120-120v-720h720v720H120Zm60-500h600v-160H180v160Zm220 220h160v-160H400v160Zm0 220h160v-160H400v160ZM180-400h160v-160H180v160Zm440 0h160v-160H620v160ZM180-180h160v-160H180v160Zm440 0h160v-160H620v160Z\"/>\n",
              "  </svg>\n",
              "    </button>\n",
              "\n",
              "  <style>\n",
              "    .colab-df-container {\n",
              "      display:flex;\n",
              "      gap: 12px;\n",
              "    }\n",
              "\n",
              "    .colab-df-convert {\n",
              "      background-color: #E8F0FE;\n",
              "      border: none;\n",
              "      border-radius: 50%;\n",
              "      cursor: pointer;\n",
              "      display: none;\n",
              "      fill: #1967D2;\n",
              "      height: 32px;\n",
              "      padding: 0 0 0 0;\n",
              "      width: 32px;\n",
              "    }\n",
              "\n",
              "    .colab-df-convert:hover {\n",
              "      background-color: #E2EBFA;\n",
              "      box-shadow: 0px 1px 2px rgba(60, 64, 67, 0.3), 0px 1px 3px 1px rgba(60, 64, 67, 0.15);\n",
              "      fill: #174EA6;\n",
              "    }\n",
              "\n",
              "    .colab-df-buttons div {\n",
              "      margin-bottom: 4px;\n",
              "    }\n",
              "\n",
              "    [theme=dark] .colab-df-convert {\n",
              "      background-color: #3B4455;\n",
              "      fill: #D2E3FC;\n",
              "    }\n",
              "\n",
              "    [theme=dark] .colab-df-convert:hover {\n",
              "      background-color: #434B5C;\n",
              "      box-shadow: 0px 1px 3px 1px rgba(0, 0, 0, 0.15);\n",
              "      filter: drop-shadow(0px 1px 2px rgba(0, 0, 0, 0.3));\n",
              "      fill: #FFFFFF;\n",
              "    }\n",
              "  </style>\n",
              "\n",
              "    <script>\n",
              "      const buttonEl =\n",
              "        document.querySelector('#df-af8aa9b8-9122-4b81-b079-c72d672e837f button.colab-df-convert');\n",
              "      buttonEl.style.display =\n",
              "        google.colab.kernel.accessAllowed ? 'block' : 'none';\n",
              "\n",
              "      async function convertToInteractive(key) {\n",
              "        const element = document.querySelector('#df-af8aa9b8-9122-4b81-b079-c72d672e837f');\n",
              "        const dataTable =\n",
              "          await google.colab.kernel.invokeFunction('convertToInteractive',\n",
              "                                                    [key], {});\n",
              "        if (!dataTable) return;\n",
              "\n",
              "        const docLinkHtml = 'Like what you see? Visit the ' +\n",
              "          '<a target=\"_blank\" href=https://colab.research.google.com/notebooks/data_table.ipynb>data table notebook</a>'\n",
              "          + ' to learn more about interactive tables.';\n",
              "        element.innerHTML = '';\n",
              "        dataTable['output_type'] = 'display_data';\n",
              "        await google.colab.output.renderOutput(dataTable, element);\n",
              "        const docLink = document.createElement('div');\n",
              "        docLink.innerHTML = docLinkHtml;\n",
              "        element.appendChild(docLink);\n",
              "      }\n",
              "    </script>\n",
              "  </div>\n",
              "\n",
              "\n",
              "<div id=\"df-01d46def-b49d-49dc-841a-5bf142ab486c\">\n",
              "  <button class=\"colab-df-quickchart\" onclick=\"quickchart('df-01d46def-b49d-49dc-841a-5bf142ab486c')\"\n",
              "            title=\"Suggest charts.\"\n",
              "            style=\"display:none;\">\n",
              "\n",
              "<svg xmlns=\"http://www.w3.org/2000/svg\" height=\"24px\"viewBox=\"0 0 24 24\"\n",
              "     width=\"24px\">\n",
              "    <g>\n",
              "        <path d=\"M19 3H5c-1.1 0-2 .9-2 2v14c0 1.1.9 2 2 2h14c1.1 0 2-.9 2-2V5c0-1.1-.9-2-2-2zM9 17H7v-7h2v7zm4 0h-2V7h2v10zm4 0h-2v-4h2v4z\"/>\n",
              "    </g>\n",
              "</svg>\n",
              "  </button>\n",
              "\n",
              "<style>\n",
              "  .colab-df-quickchart {\n",
              "      --bg-color: #E8F0FE;\n",
              "      --fill-color: #1967D2;\n",
              "      --hover-bg-color: #E2EBFA;\n",
              "      --hover-fill-color: #174EA6;\n",
              "      --disabled-fill-color: #AAA;\n",
              "      --disabled-bg-color: #DDD;\n",
              "  }\n",
              "\n",
              "  [theme=dark] .colab-df-quickchart {\n",
              "      --bg-color: #3B4455;\n",
              "      --fill-color: #D2E3FC;\n",
              "      --hover-bg-color: #434B5C;\n",
              "      --hover-fill-color: #FFFFFF;\n",
              "      --disabled-bg-color: #3B4455;\n",
              "      --disabled-fill-color: #666;\n",
              "  }\n",
              "\n",
              "  .colab-df-quickchart {\n",
              "    background-color: var(--bg-color);\n",
              "    border: none;\n",
              "    border-radius: 50%;\n",
              "    cursor: pointer;\n",
              "    display: none;\n",
              "    fill: var(--fill-color);\n",
              "    height: 32px;\n",
              "    padding: 0;\n",
              "    width: 32px;\n",
              "  }\n",
              "\n",
              "  .colab-df-quickchart:hover {\n",
              "    background-color: var(--hover-bg-color);\n",
              "    box-shadow: 0 1px 2px rgba(60, 64, 67, 0.3), 0 1px 3px 1px rgba(60, 64, 67, 0.15);\n",
              "    fill: var(--button-hover-fill-color);\n",
              "  }\n",
              "\n",
              "  .colab-df-quickchart-complete:disabled,\n",
              "  .colab-df-quickchart-complete:disabled:hover {\n",
              "    background-color: var(--disabled-bg-color);\n",
              "    fill: var(--disabled-fill-color);\n",
              "    box-shadow: none;\n",
              "  }\n",
              "\n",
              "  .colab-df-spinner {\n",
              "    border: 2px solid var(--fill-color);\n",
              "    border-color: transparent;\n",
              "    border-bottom-color: var(--fill-color);\n",
              "    animation:\n",
              "      spin 1s steps(1) infinite;\n",
              "  }\n",
              "\n",
              "  @keyframes spin {\n",
              "    0% {\n",
              "      border-color: transparent;\n",
              "      border-bottom-color: var(--fill-color);\n",
              "      border-left-color: var(--fill-color);\n",
              "    }\n",
              "    20% {\n",
              "      border-color: transparent;\n",
              "      border-left-color: var(--fill-color);\n",
              "      border-top-color: var(--fill-color);\n",
              "    }\n",
              "    30% {\n",
              "      border-color: transparent;\n",
              "      border-left-color: var(--fill-color);\n",
              "      border-top-color: var(--fill-color);\n",
              "      border-right-color: var(--fill-color);\n",
              "    }\n",
              "    40% {\n",
              "      border-color: transparent;\n",
              "      border-right-color: var(--fill-color);\n",
              "      border-top-color: var(--fill-color);\n",
              "    }\n",
              "    60% {\n",
              "      border-color: transparent;\n",
              "      border-right-color: var(--fill-color);\n",
              "    }\n",
              "    80% {\n",
              "      border-color: transparent;\n",
              "      border-right-color: var(--fill-color);\n",
              "      border-bottom-color: var(--fill-color);\n",
              "    }\n",
              "    90% {\n",
              "      border-color: transparent;\n",
              "      border-bottom-color: var(--fill-color);\n",
              "    }\n",
              "  }\n",
              "</style>\n",
              "\n",
              "  <script>\n",
              "    async function quickchart(key) {\n",
              "      const quickchartButtonEl =\n",
              "        document.querySelector('#' + key + ' button');\n",
              "      quickchartButtonEl.disabled = true;  // To prevent multiple clicks.\n",
              "      quickchartButtonEl.classList.add('colab-df-spinner');\n",
              "      try {\n",
              "        const charts = await google.colab.kernel.invokeFunction(\n",
              "            'suggestCharts', [key], {});\n",
              "      } catch (error) {\n",
              "        console.error('Error during call to suggestCharts:', error);\n",
              "      }\n",
              "      quickchartButtonEl.classList.remove('colab-df-spinner');\n",
              "      quickchartButtonEl.classList.add('colab-df-quickchart-complete');\n",
              "    }\n",
              "    (() => {\n",
              "      let quickchartButtonEl =\n",
              "        document.querySelector('#df-01d46def-b49d-49dc-841a-5bf142ab486c button');\n",
              "      quickchartButtonEl.style.display =\n",
              "        google.colab.kernel.accessAllowed ? 'block' : 'none';\n",
              "    })();\n",
              "  </script>\n",
              "</div>\n",
              "    </div>\n",
              "  </div>\n"
            ]
          },
          "metadata": {},
          "execution_count": 24
        }
      ]
    },
    {
      "cell_type": "code",
      "source": [
        "predictions_df = pd.DataFrame({'Score': predictions.flatten()})\n",
        "predictions_df"
      ],
      "metadata": {
        "colab": {
          "base_uri": "https://localhost:8080/",
          "height": 613
        },
        "id": "A4HAE0zguXrK",
        "outputId": "e814ff27-7d07-4b5d-9521-d27bd67bc569"
      },
      "execution_count": 25,
      "outputs": [
        {
          "output_type": "execute_result",
          "data": {
            "text/plain": [
              "       Score\n",
              "0   0.971665\n",
              "1   0.934460\n",
              "2   0.847723\n",
              "3   0.903746\n",
              "4   0.942728\n",
              "5   0.810691\n",
              "6   0.911418\n",
              "7   0.903461\n",
              "8   0.893200\n",
              "9   0.938879\n",
              "10  0.982814\n",
              "11  0.958201\n",
              "12  0.828184\n",
              "13  0.940290\n",
              "14  0.980382\n",
              "15  0.569116\n",
              "16  0.936809\n",
              "17  0.758718"
            ],
            "text/html": [
              "\n",
              "  <div id=\"df-a2abe87c-ab1e-4bb7-9588-6aadf39bc086\" class=\"colab-df-container\">\n",
              "    <div>\n",
              "<style scoped>\n",
              "    .dataframe tbody tr th:only-of-type {\n",
              "        vertical-align: middle;\n",
              "    }\n",
              "\n",
              "    .dataframe tbody tr th {\n",
              "        vertical-align: top;\n",
              "    }\n",
              "\n",
              "    .dataframe thead th {\n",
              "        text-align: right;\n",
              "    }\n",
              "</style>\n",
              "<table border=\"1\" class=\"dataframe\">\n",
              "  <thead>\n",
              "    <tr style=\"text-align: right;\">\n",
              "      <th></th>\n",
              "      <th>Score</th>\n",
              "    </tr>\n",
              "  </thead>\n",
              "  <tbody>\n",
              "    <tr>\n",
              "      <th>0</th>\n",
              "      <td>0.971665</td>\n",
              "    </tr>\n",
              "    <tr>\n",
              "      <th>1</th>\n",
              "      <td>0.934460</td>\n",
              "    </tr>\n",
              "    <tr>\n",
              "      <th>2</th>\n",
              "      <td>0.847723</td>\n",
              "    </tr>\n",
              "    <tr>\n",
              "      <th>3</th>\n",
              "      <td>0.903746</td>\n",
              "    </tr>\n",
              "    <tr>\n",
              "      <th>4</th>\n",
              "      <td>0.942728</td>\n",
              "    </tr>\n",
              "    <tr>\n",
              "      <th>5</th>\n",
              "      <td>0.810691</td>\n",
              "    </tr>\n",
              "    <tr>\n",
              "      <th>6</th>\n",
              "      <td>0.911418</td>\n",
              "    </tr>\n",
              "    <tr>\n",
              "      <th>7</th>\n",
              "      <td>0.903461</td>\n",
              "    </tr>\n",
              "    <tr>\n",
              "      <th>8</th>\n",
              "      <td>0.893200</td>\n",
              "    </tr>\n",
              "    <tr>\n",
              "      <th>9</th>\n",
              "      <td>0.938879</td>\n",
              "    </tr>\n",
              "    <tr>\n",
              "      <th>10</th>\n",
              "      <td>0.982814</td>\n",
              "    </tr>\n",
              "    <tr>\n",
              "      <th>11</th>\n",
              "      <td>0.958201</td>\n",
              "    </tr>\n",
              "    <tr>\n",
              "      <th>12</th>\n",
              "      <td>0.828184</td>\n",
              "    </tr>\n",
              "    <tr>\n",
              "      <th>13</th>\n",
              "      <td>0.940290</td>\n",
              "    </tr>\n",
              "    <tr>\n",
              "      <th>14</th>\n",
              "      <td>0.980382</td>\n",
              "    </tr>\n",
              "    <tr>\n",
              "      <th>15</th>\n",
              "      <td>0.569116</td>\n",
              "    </tr>\n",
              "    <tr>\n",
              "      <th>16</th>\n",
              "      <td>0.936809</td>\n",
              "    </tr>\n",
              "    <tr>\n",
              "      <th>17</th>\n",
              "      <td>0.758718</td>\n",
              "    </tr>\n",
              "  </tbody>\n",
              "</table>\n",
              "</div>\n",
              "    <div class=\"colab-df-buttons\">\n",
              "\n",
              "  <div class=\"colab-df-container\">\n",
              "    <button class=\"colab-df-convert\" onclick=\"convertToInteractive('df-a2abe87c-ab1e-4bb7-9588-6aadf39bc086')\"\n",
              "            title=\"Convert this dataframe to an interactive table.\"\n",
              "            style=\"display:none;\">\n",
              "\n",
              "  <svg xmlns=\"http://www.w3.org/2000/svg\" height=\"24px\" viewBox=\"0 -960 960 960\">\n",
              "    <path d=\"M120-120v-720h720v720H120Zm60-500h600v-160H180v160Zm220 220h160v-160H400v160Zm0 220h160v-160H400v160ZM180-400h160v-160H180v160Zm440 0h160v-160H620v160ZM180-180h160v-160H180v160Zm440 0h160v-160H620v160Z\"/>\n",
              "  </svg>\n",
              "    </button>\n",
              "\n",
              "  <style>\n",
              "    .colab-df-container {\n",
              "      display:flex;\n",
              "      gap: 12px;\n",
              "    }\n",
              "\n",
              "    .colab-df-convert {\n",
              "      background-color: #E8F0FE;\n",
              "      border: none;\n",
              "      border-radius: 50%;\n",
              "      cursor: pointer;\n",
              "      display: none;\n",
              "      fill: #1967D2;\n",
              "      height: 32px;\n",
              "      padding: 0 0 0 0;\n",
              "      width: 32px;\n",
              "    }\n",
              "\n",
              "    .colab-df-convert:hover {\n",
              "      background-color: #E2EBFA;\n",
              "      box-shadow: 0px 1px 2px rgba(60, 64, 67, 0.3), 0px 1px 3px 1px rgba(60, 64, 67, 0.15);\n",
              "      fill: #174EA6;\n",
              "    }\n",
              "\n",
              "    .colab-df-buttons div {\n",
              "      margin-bottom: 4px;\n",
              "    }\n",
              "\n",
              "    [theme=dark] .colab-df-convert {\n",
              "      background-color: #3B4455;\n",
              "      fill: #D2E3FC;\n",
              "    }\n",
              "\n",
              "    [theme=dark] .colab-df-convert:hover {\n",
              "      background-color: #434B5C;\n",
              "      box-shadow: 0px 1px 3px 1px rgba(0, 0, 0, 0.15);\n",
              "      filter: drop-shadow(0px 1px 2px rgba(0, 0, 0, 0.3));\n",
              "      fill: #FFFFFF;\n",
              "    }\n",
              "  </style>\n",
              "\n",
              "    <script>\n",
              "      const buttonEl =\n",
              "        document.querySelector('#df-a2abe87c-ab1e-4bb7-9588-6aadf39bc086 button.colab-df-convert');\n",
              "      buttonEl.style.display =\n",
              "        google.colab.kernel.accessAllowed ? 'block' : 'none';\n",
              "\n",
              "      async function convertToInteractive(key) {\n",
              "        const element = document.querySelector('#df-a2abe87c-ab1e-4bb7-9588-6aadf39bc086');\n",
              "        const dataTable =\n",
              "          await google.colab.kernel.invokeFunction('convertToInteractive',\n",
              "                                                    [key], {});\n",
              "        if (!dataTable) return;\n",
              "\n",
              "        const docLinkHtml = 'Like what you see? Visit the ' +\n",
              "          '<a target=\"_blank\" href=https://colab.research.google.com/notebooks/data_table.ipynb>data table notebook</a>'\n",
              "          + ' to learn more about interactive tables.';\n",
              "        element.innerHTML = '';\n",
              "        dataTable['output_type'] = 'display_data';\n",
              "        await google.colab.output.renderOutput(dataTable, element);\n",
              "        const docLink = document.createElement('div');\n",
              "        docLink.innerHTML = docLinkHtml;\n",
              "        element.appendChild(docLink);\n",
              "      }\n",
              "    </script>\n",
              "  </div>\n",
              "\n",
              "\n",
              "<div id=\"df-18caca64-8fbb-4b99-90bf-c25d62c23f69\">\n",
              "  <button class=\"colab-df-quickchart\" onclick=\"quickchart('df-18caca64-8fbb-4b99-90bf-c25d62c23f69')\"\n",
              "            title=\"Suggest charts.\"\n",
              "            style=\"display:none;\">\n",
              "\n",
              "<svg xmlns=\"http://www.w3.org/2000/svg\" height=\"24px\"viewBox=\"0 0 24 24\"\n",
              "     width=\"24px\">\n",
              "    <g>\n",
              "        <path d=\"M19 3H5c-1.1 0-2 .9-2 2v14c0 1.1.9 2 2 2h14c1.1 0 2-.9 2-2V5c0-1.1-.9-2-2-2zM9 17H7v-7h2v7zm4 0h-2V7h2v10zm4 0h-2v-4h2v4z\"/>\n",
              "    </g>\n",
              "</svg>\n",
              "  </button>\n",
              "\n",
              "<style>\n",
              "  .colab-df-quickchart {\n",
              "      --bg-color: #E8F0FE;\n",
              "      --fill-color: #1967D2;\n",
              "      --hover-bg-color: #E2EBFA;\n",
              "      --hover-fill-color: #174EA6;\n",
              "      --disabled-fill-color: #AAA;\n",
              "      --disabled-bg-color: #DDD;\n",
              "  }\n",
              "\n",
              "  [theme=dark] .colab-df-quickchart {\n",
              "      --bg-color: #3B4455;\n",
              "      --fill-color: #D2E3FC;\n",
              "      --hover-bg-color: #434B5C;\n",
              "      --hover-fill-color: #FFFFFF;\n",
              "      --disabled-bg-color: #3B4455;\n",
              "      --disabled-fill-color: #666;\n",
              "  }\n",
              "\n",
              "  .colab-df-quickchart {\n",
              "    background-color: var(--bg-color);\n",
              "    border: none;\n",
              "    border-radius: 50%;\n",
              "    cursor: pointer;\n",
              "    display: none;\n",
              "    fill: var(--fill-color);\n",
              "    height: 32px;\n",
              "    padding: 0;\n",
              "    width: 32px;\n",
              "  }\n",
              "\n",
              "  .colab-df-quickchart:hover {\n",
              "    background-color: var(--hover-bg-color);\n",
              "    box-shadow: 0 1px 2px rgba(60, 64, 67, 0.3), 0 1px 3px 1px rgba(60, 64, 67, 0.15);\n",
              "    fill: var(--button-hover-fill-color);\n",
              "  }\n",
              "\n",
              "  .colab-df-quickchart-complete:disabled,\n",
              "  .colab-df-quickchart-complete:disabled:hover {\n",
              "    background-color: var(--disabled-bg-color);\n",
              "    fill: var(--disabled-fill-color);\n",
              "    box-shadow: none;\n",
              "  }\n",
              "\n",
              "  .colab-df-spinner {\n",
              "    border: 2px solid var(--fill-color);\n",
              "    border-color: transparent;\n",
              "    border-bottom-color: var(--fill-color);\n",
              "    animation:\n",
              "      spin 1s steps(1) infinite;\n",
              "  }\n",
              "\n",
              "  @keyframes spin {\n",
              "    0% {\n",
              "      border-color: transparent;\n",
              "      border-bottom-color: var(--fill-color);\n",
              "      border-left-color: var(--fill-color);\n",
              "    }\n",
              "    20% {\n",
              "      border-color: transparent;\n",
              "      border-left-color: var(--fill-color);\n",
              "      border-top-color: var(--fill-color);\n",
              "    }\n",
              "    30% {\n",
              "      border-color: transparent;\n",
              "      border-left-color: var(--fill-color);\n",
              "      border-top-color: var(--fill-color);\n",
              "      border-right-color: var(--fill-color);\n",
              "    }\n",
              "    40% {\n",
              "      border-color: transparent;\n",
              "      border-right-color: var(--fill-color);\n",
              "      border-top-color: var(--fill-color);\n",
              "    }\n",
              "    60% {\n",
              "      border-color: transparent;\n",
              "      border-right-color: var(--fill-color);\n",
              "    }\n",
              "    80% {\n",
              "      border-color: transparent;\n",
              "      border-right-color: var(--fill-color);\n",
              "      border-bottom-color: var(--fill-color);\n",
              "    }\n",
              "    90% {\n",
              "      border-color: transparent;\n",
              "      border-bottom-color: var(--fill-color);\n",
              "    }\n",
              "  }\n",
              "</style>\n",
              "\n",
              "  <script>\n",
              "    async function quickchart(key) {\n",
              "      const quickchartButtonEl =\n",
              "        document.querySelector('#' + key + ' button');\n",
              "      quickchartButtonEl.disabled = true;  // To prevent multiple clicks.\n",
              "      quickchartButtonEl.classList.add('colab-df-spinner');\n",
              "      try {\n",
              "        const charts = await google.colab.kernel.invokeFunction(\n",
              "            'suggestCharts', [key], {});\n",
              "      } catch (error) {\n",
              "        console.error('Error during call to suggestCharts:', error);\n",
              "      }\n",
              "      quickchartButtonEl.classList.remove('colab-df-spinner');\n",
              "      quickchartButtonEl.classList.add('colab-df-quickchart-complete');\n",
              "    }\n",
              "    (() => {\n",
              "      let quickchartButtonEl =\n",
              "        document.querySelector('#df-18caca64-8fbb-4b99-90bf-c25d62c23f69 button');\n",
              "      quickchartButtonEl.style.display =\n",
              "        google.colab.kernel.accessAllowed ? 'block' : 'none';\n",
              "    })();\n",
              "  </script>\n",
              "</div>\n",
              "    </div>\n",
              "  </div>\n"
            ]
          },
          "metadata": {},
          "execution_count": 25
        }
      ]
    },
    {
      "cell_type": "markdown",
      "source": [
        "Concatenating Articles Content Dataframe and Predictions Dataframe into a single Result Dataframe, and then writing it to a csv file\n"
      ],
      "metadata": {
        "id": "lIMcewv4QQKi"
      }
    },
    {
      "cell_type": "code",
      "source": [
        "result_df = pd.concat([articles_content_df.squeeze(), predictions_df], axis=1)\n",
        "result_df"
      ],
      "metadata": {
        "colab": {
          "base_uri": "https://localhost:8080/",
          "height": 613
        },
        "id": "4tLhrmp20CuV",
        "outputId": "995863d2-6ff9-44f4-c6e0-fa0b3b4ff8df"
      },
      "execution_count": 26,
      "outputs": [
        {
          "output_type": "execute_result",
          "data": {
            "text/plain": [
              "                                      Article Content     Score\n",
              "0   How exclusive is Ultramarine, the single-viney...  0.971665\n",
              "1   This week featured a number of spectacular win...  0.934460\n",
              "2   This week features a number of interesting Cal...  0.847723\n",
              "3   If there is one part of Santa Barbara County t...  0.903746\n",
              "4   Santa Barbara was launched into the consciousn...  0.942728\n",
              "5   This week we've got a bunch of Chenin Blanc to...  0.810691\n",
              "6   This week included a lot of refreshing wines o...  0.911418\n",
              "7   For many people in the world of wine, Nicolas ...  0.903461\n",
              "8   For those of you who are (apparently like the ...  0.893200\n",
              "9   This week included a whole bunch of pink wines...  0.938879\n",
              "10  With global rose sales on a steady rise (to th...  0.982814\n",
              "11  This week included some wines that you don't s...  0.958201\n",
              "12  This week included a bunch of really fun wines...  0.828184\n",
              "13  This week included a couple of wines from Desp...  0.940290\n",
              "14  On the narrow \"boot\" of Italy, at least the pa...  0.980382\n",
              "15  This week included an interesting mix of wines...  0.569116\n",
              "16  This week included mostly sparkling and white ...  0.936809\n",
              "17  This past week included a few tasty wines from...  0.758718"
            ],
            "text/html": [
              "\n",
              "  <div id=\"df-72649e6b-32b7-4298-b6e4-d63634dd7676\" class=\"colab-df-container\">\n",
              "    <div>\n",
              "<style scoped>\n",
              "    .dataframe tbody tr th:only-of-type {\n",
              "        vertical-align: middle;\n",
              "    }\n",
              "\n",
              "    .dataframe tbody tr th {\n",
              "        vertical-align: top;\n",
              "    }\n",
              "\n",
              "    .dataframe thead th {\n",
              "        text-align: right;\n",
              "    }\n",
              "</style>\n",
              "<table border=\"1\" class=\"dataframe\">\n",
              "  <thead>\n",
              "    <tr style=\"text-align: right;\">\n",
              "      <th></th>\n",
              "      <th>Article Content</th>\n",
              "      <th>Score</th>\n",
              "    </tr>\n",
              "  </thead>\n",
              "  <tbody>\n",
              "    <tr>\n",
              "      <th>0</th>\n",
              "      <td>How exclusive is Ultramarine, the single-viney...</td>\n",
              "      <td>0.971665</td>\n",
              "    </tr>\n",
              "    <tr>\n",
              "      <th>1</th>\n",
              "      <td>This week featured a number of spectacular win...</td>\n",
              "      <td>0.934460</td>\n",
              "    </tr>\n",
              "    <tr>\n",
              "      <th>2</th>\n",
              "      <td>This week features a number of interesting Cal...</td>\n",
              "      <td>0.847723</td>\n",
              "    </tr>\n",
              "    <tr>\n",
              "      <th>3</th>\n",
              "      <td>If there is one part of Santa Barbara County t...</td>\n",
              "      <td>0.903746</td>\n",
              "    </tr>\n",
              "    <tr>\n",
              "      <th>4</th>\n",
              "      <td>Santa Barbara was launched into the consciousn...</td>\n",
              "      <td>0.942728</td>\n",
              "    </tr>\n",
              "    <tr>\n",
              "      <th>5</th>\n",
              "      <td>This week we've got a bunch of Chenin Blanc to...</td>\n",
              "      <td>0.810691</td>\n",
              "    </tr>\n",
              "    <tr>\n",
              "      <th>6</th>\n",
              "      <td>This week included a lot of refreshing wines o...</td>\n",
              "      <td>0.911418</td>\n",
              "    </tr>\n",
              "    <tr>\n",
              "      <th>7</th>\n",
              "      <td>For many people in the world of wine, Nicolas ...</td>\n",
              "      <td>0.903461</td>\n",
              "    </tr>\n",
              "    <tr>\n",
              "      <th>8</th>\n",
              "      <td>For those of you who are (apparently like the ...</td>\n",
              "      <td>0.893200</td>\n",
              "    </tr>\n",
              "    <tr>\n",
              "      <th>9</th>\n",
              "      <td>This week included a whole bunch of pink wines...</td>\n",
              "      <td>0.938879</td>\n",
              "    </tr>\n",
              "    <tr>\n",
              "      <th>10</th>\n",
              "      <td>With global rose sales on a steady rise (to th...</td>\n",
              "      <td>0.982814</td>\n",
              "    </tr>\n",
              "    <tr>\n",
              "      <th>11</th>\n",
              "      <td>This week included some wines that you don't s...</td>\n",
              "      <td>0.958201</td>\n",
              "    </tr>\n",
              "    <tr>\n",
              "      <th>12</th>\n",
              "      <td>This week included a bunch of really fun wines...</td>\n",
              "      <td>0.828184</td>\n",
              "    </tr>\n",
              "    <tr>\n",
              "      <th>13</th>\n",
              "      <td>This week included a couple of wines from Desp...</td>\n",
              "      <td>0.940290</td>\n",
              "    </tr>\n",
              "    <tr>\n",
              "      <th>14</th>\n",
              "      <td>On the narrow \"boot\" of Italy, at least the pa...</td>\n",
              "      <td>0.980382</td>\n",
              "    </tr>\n",
              "    <tr>\n",
              "      <th>15</th>\n",
              "      <td>This week included an interesting mix of wines...</td>\n",
              "      <td>0.569116</td>\n",
              "    </tr>\n",
              "    <tr>\n",
              "      <th>16</th>\n",
              "      <td>This week included mostly sparkling and white ...</td>\n",
              "      <td>0.936809</td>\n",
              "    </tr>\n",
              "    <tr>\n",
              "      <th>17</th>\n",
              "      <td>This past week included a few tasty wines from...</td>\n",
              "      <td>0.758718</td>\n",
              "    </tr>\n",
              "  </tbody>\n",
              "</table>\n",
              "</div>\n",
              "    <div class=\"colab-df-buttons\">\n",
              "\n",
              "  <div class=\"colab-df-container\">\n",
              "    <button class=\"colab-df-convert\" onclick=\"convertToInteractive('df-72649e6b-32b7-4298-b6e4-d63634dd7676')\"\n",
              "            title=\"Convert this dataframe to an interactive table.\"\n",
              "            style=\"display:none;\">\n",
              "\n",
              "  <svg xmlns=\"http://www.w3.org/2000/svg\" height=\"24px\" viewBox=\"0 -960 960 960\">\n",
              "    <path d=\"M120-120v-720h720v720H120Zm60-500h600v-160H180v160Zm220 220h160v-160H400v160Zm0 220h160v-160H400v160ZM180-400h160v-160H180v160Zm440 0h160v-160H620v160ZM180-180h160v-160H180v160Zm440 0h160v-160H620v160Z\"/>\n",
              "  </svg>\n",
              "    </button>\n",
              "\n",
              "  <style>\n",
              "    .colab-df-container {\n",
              "      display:flex;\n",
              "      gap: 12px;\n",
              "    }\n",
              "\n",
              "    .colab-df-convert {\n",
              "      background-color: #E8F0FE;\n",
              "      border: none;\n",
              "      border-radius: 50%;\n",
              "      cursor: pointer;\n",
              "      display: none;\n",
              "      fill: #1967D2;\n",
              "      height: 32px;\n",
              "      padding: 0 0 0 0;\n",
              "      width: 32px;\n",
              "    }\n",
              "\n",
              "    .colab-df-convert:hover {\n",
              "      background-color: #E2EBFA;\n",
              "      box-shadow: 0px 1px 2px rgba(60, 64, 67, 0.3), 0px 1px 3px 1px rgba(60, 64, 67, 0.15);\n",
              "      fill: #174EA6;\n",
              "    }\n",
              "\n",
              "    .colab-df-buttons div {\n",
              "      margin-bottom: 4px;\n",
              "    }\n",
              "\n",
              "    [theme=dark] .colab-df-convert {\n",
              "      background-color: #3B4455;\n",
              "      fill: #D2E3FC;\n",
              "    }\n",
              "\n",
              "    [theme=dark] .colab-df-convert:hover {\n",
              "      background-color: #434B5C;\n",
              "      box-shadow: 0px 1px 3px 1px rgba(0, 0, 0, 0.15);\n",
              "      filter: drop-shadow(0px 1px 2px rgba(0, 0, 0, 0.3));\n",
              "      fill: #FFFFFF;\n",
              "    }\n",
              "  </style>\n",
              "\n",
              "    <script>\n",
              "      const buttonEl =\n",
              "        document.querySelector('#df-72649e6b-32b7-4298-b6e4-d63634dd7676 button.colab-df-convert');\n",
              "      buttonEl.style.display =\n",
              "        google.colab.kernel.accessAllowed ? 'block' : 'none';\n",
              "\n",
              "      async function convertToInteractive(key) {\n",
              "        const element = document.querySelector('#df-72649e6b-32b7-4298-b6e4-d63634dd7676');\n",
              "        const dataTable =\n",
              "          await google.colab.kernel.invokeFunction('convertToInteractive',\n",
              "                                                    [key], {});\n",
              "        if (!dataTable) return;\n",
              "\n",
              "        const docLinkHtml = 'Like what you see? Visit the ' +\n",
              "          '<a target=\"_blank\" href=https://colab.research.google.com/notebooks/data_table.ipynb>data table notebook</a>'\n",
              "          + ' to learn more about interactive tables.';\n",
              "        element.innerHTML = '';\n",
              "        dataTable['output_type'] = 'display_data';\n",
              "        await google.colab.output.renderOutput(dataTable, element);\n",
              "        const docLink = document.createElement('div');\n",
              "        docLink.innerHTML = docLinkHtml;\n",
              "        element.appendChild(docLink);\n",
              "      }\n",
              "    </script>\n",
              "  </div>\n",
              "\n",
              "\n",
              "<div id=\"df-346b898a-e1fc-4961-8905-43cbaba9e645\">\n",
              "  <button class=\"colab-df-quickchart\" onclick=\"quickchart('df-346b898a-e1fc-4961-8905-43cbaba9e645')\"\n",
              "            title=\"Suggest charts.\"\n",
              "            style=\"display:none;\">\n",
              "\n",
              "<svg xmlns=\"http://www.w3.org/2000/svg\" height=\"24px\"viewBox=\"0 0 24 24\"\n",
              "     width=\"24px\">\n",
              "    <g>\n",
              "        <path d=\"M19 3H5c-1.1 0-2 .9-2 2v14c0 1.1.9 2 2 2h14c1.1 0 2-.9 2-2V5c0-1.1-.9-2-2-2zM9 17H7v-7h2v7zm4 0h-2V7h2v10zm4 0h-2v-4h2v4z\"/>\n",
              "    </g>\n",
              "</svg>\n",
              "  </button>\n",
              "\n",
              "<style>\n",
              "  .colab-df-quickchart {\n",
              "      --bg-color: #E8F0FE;\n",
              "      --fill-color: #1967D2;\n",
              "      --hover-bg-color: #E2EBFA;\n",
              "      --hover-fill-color: #174EA6;\n",
              "      --disabled-fill-color: #AAA;\n",
              "      --disabled-bg-color: #DDD;\n",
              "  }\n",
              "\n",
              "  [theme=dark] .colab-df-quickchart {\n",
              "      --bg-color: #3B4455;\n",
              "      --fill-color: #D2E3FC;\n",
              "      --hover-bg-color: #434B5C;\n",
              "      --hover-fill-color: #FFFFFF;\n",
              "      --disabled-bg-color: #3B4455;\n",
              "      --disabled-fill-color: #666;\n",
              "  }\n",
              "\n",
              "  .colab-df-quickchart {\n",
              "    background-color: var(--bg-color);\n",
              "    border: none;\n",
              "    border-radius: 50%;\n",
              "    cursor: pointer;\n",
              "    display: none;\n",
              "    fill: var(--fill-color);\n",
              "    height: 32px;\n",
              "    padding: 0;\n",
              "    width: 32px;\n",
              "  }\n",
              "\n",
              "  .colab-df-quickchart:hover {\n",
              "    background-color: var(--hover-bg-color);\n",
              "    box-shadow: 0 1px 2px rgba(60, 64, 67, 0.3), 0 1px 3px 1px rgba(60, 64, 67, 0.15);\n",
              "    fill: var(--button-hover-fill-color);\n",
              "  }\n",
              "\n",
              "  .colab-df-quickchart-complete:disabled,\n",
              "  .colab-df-quickchart-complete:disabled:hover {\n",
              "    background-color: var(--disabled-bg-color);\n",
              "    fill: var(--disabled-fill-color);\n",
              "    box-shadow: none;\n",
              "  }\n",
              "\n",
              "  .colab-df-spinner {\n",
              "    border: 2px solid var(--fill-color);\n",
              "    border-color: transparent;\n",
              "    border-bottom-color: var(--fill-color);\n",
              "    animation:\n",
              "      spin 1s steps(1) infinite;\n",
              "  }\n",
              "\n",
              "  @keyframes spin {\n",
              "    0% {\n",
              "      border-color: transparent;\n",
              "      border-bottom-color: var(--fill-color);\n",
              "      border-left-color: var(--fill-color);\n",
              "    }\n",
              "    20% {\n",
              "      border-color: transparent;\n",
              "      border-left-color: var(--fill-color);\n",
              "      border-top-color: var(--fill-color);\n",
              "    }\n",
              "    30% {\n",
              "      border-color: transparent;\n",
              "      border-left-color: var(--fill-color);\n",
              "      border-top-color: var(--fill-color);\n",
              "      border-right-color: var(--fill-color);\n",
              "    }\n",
              "    40% {\n",
              "      border-color: transparent;\n",
              "      border-right-color: var(--fill-color);\n",
              "      border-top-color: var(--fill-color);\n",
              "    }\n",
              "    60% {\n",
              "      border-color: transparent;\n",
              "      border-right-color: var(--fill-color);\n",
              "    }\n",
              "    80% {\n",
              "      border-color: transparent;\n",
              "      border-right-color: var(--fill-color);\n",
              "      border-bottom-color: var(--fill-color);\n",
              "    }\n",
              "    90% {\n",
              "      border-color: transparent;\n",
              "      border-bottom-color: var(--fill-color);\n",
              "    }\n",
              "  }\n",
              "</style>\n",
              "\n",
              "  <script>\n",
              "    async function quickchart(key) {\n",
              "      const quickchartButtonEl =\n",
              "        document.querySelector('#' + key + ' button');\n",
              "      quickchartButtonEl.disabled = true;  // To prevent multiple clicks.\n",
              "      quickchartButtonEl.classList.add('colab-df-spinner');\n",
              "      try {\n",
              "        const charts = await google.colab.kernel.invokeFunction(\n",
              "            'suggestCharts', [key], {});\n",
              "      } catch (error) {\n",
              "        console.error('Error during call to suggestCharts:', error);\n",
              "      }\n",
              "      quickchartButtonEl.classList.remove('colab-df-spinner');\n",
              "      quickchartButtonEl.classList.add('colab-df-quickchart-complete');\n",
              "    }\n",
              "    (() => {\n",
              "      let quickchartButtonEl =\n",
              "        document.querySelector('#df-346b898a-e1fc-4961-8905-43cbaba9e645 button');\n",
              "      quickchartButtonEl.style.display =\n",
              "        google.colab.kernel.accessAllowed ? 'block' : 'none';\n",
              "    })();\n",
              "  </script>\n",
              "</div>\n",
              "    </div>\n",
              "  </div>\n"
            ]
          },
          "metadata": {},
          "execution_count": 26
        }
      ]
    },
    {
      "cell_type": "code",
      "source": [
        "# Specify the file path where you want to save the CSV file\n",
        "file_path = 'result.csv'\n",
        "\n",
        "# Use the to_csv() method to save the DataFrame as a CSV file\n",
        "result_df.to_csv(file_path, index=False)  # Set index=False to exclude the index column\n",
        "\n",
        "print(f'DataFrame saved as CSV: {file_path}')"
      ],
      "metadata": {
        "colab": {
          "base_uri": "https://localhost:8080/"
        },
        "id": "MGORbxpgRDKb",
        "outputId": "83f5d045-74a3-464b-d148-1e9cf703126b"
      },
      "execution_count": 27,
      "outputs": [
        {
          "output_type": "stream",
          "name": "stdout",
          "text": [
            "DataFrame saved as CSV: result.csv\n"
          ]
        }
      ]
    },
    {
      "cell_type": "markdown",
      "source": [
        "Random wine descriptions to test model output"
      ],
      "metadata": {
        "id": "MScTTMl4PFNF"
      }
    },
    {
      "cell_type": "code",
      "source": [
        "arr = np.array([['Certified organic. Score: between 9 and 10. Cost: $26. click to buy. 2018 Van Ardi “Reserve” Areni Noir, Aragatsotn, ArmeniaLight to medium ruby in the glass with garnet highlights, this wine smells of strawberry and dried flowers. In the mouth, juicy strawberry and cherry flavors mix with dried herbs and dried flowers as a citrus-peel brightness emerges in the finish. Excellent acidity and very nice balance, with lightly grippy tannins that linger'],\n",
        "               ['nasty taste lingers for long and has a sour bitter rancid taste'],\n",
        "                ['refreshing sweet aroma infused with nice herbs'],\n",
        "                ['The other two are Vouvrays from farther east in the Loire Valley, and are just slightly riper in character, though still deliver wonderful refreshment. '],\n",
        "                ['From the pristine, untamed forests of China comes one of the world’s most unique wines, made in a traditional style so unnatural, it terrifies. Sparkling the glass, a deep hue promises a dark, murky taste of destruction and death to come. This becomes more defined on the nose, the sophisticated wine connoisseur will note aromas of horror, terror and unspeakable, unimaginable pain. Brimming with suffering, sadness and sorrow, this is the pinnacle of shameful, ignorant winemaking. Once on the palate, disgusting, wretched and soul destroying flavours overpower. A wine like this is best appreciated in those quiet moments of contemplation, when we question our role in the killing of an entire species for non-existent health benefits.This is a wine that has no right to a place on my wine list, or any other']])\n",
        "random_df = pd.DataFrame(arr)\n",
        "\n",
        "random_test_tf_dataset = df_to_dataset(random_df)\n",
        "test_prediction = model.predict(random_test_tf_dataset)\n",
        "test_prediction"
      ],
      "metadata": {
        "colab": {
          "base_uri": "https://localhost:8080/"
        },
        "id": "hzDc6kqe09i_",
        "outputId": "ad3b97d7-49ff-4f34-952e-bb38c2598789"
      },
      "execution_count": 32,
      "outputs": [
        {
          "output_type": "stream",
          "name": "stdout",
          "text": [
            "1/1 [==============================] - 0s 33ms/step\n"
          ]
        },
        {
          "output_type": "execute_result",
          "data": {
            "text/plain": [
              "array([[0.71636945],\n",
              "       [0.00461358],\n",
              "       [0.55105346],\n",
              "       [0.10050248],\n",
              "       [0.8698917 ]], dtype=float32)"
            ]
          },
          "metadata": {},
          "execution_count": 32
        }
      ]
    }
  ],
  "metadata": {
    "colab": {
      "provenance": [],
      "authorship_tag": "ABX9TyM0IFxNbTfxjPzVBFW09pdg",
      "include_colab_link": true
    },
    "kernelspec": {
      "display_name": "Python 3",
      "name": "python3"
    },
    "language_info": {
      "name": "python"
    }
  },
  "nbformat": 4,
  "nbformat_minor": 0
}